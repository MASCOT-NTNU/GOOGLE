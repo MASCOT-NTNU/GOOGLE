{
 "cells": [
  {
   "cell_type": "code",
   "execution_count": 1,
   "id": "650e9c11",
   "metadata": {},
   "outputs": [],
   "source": [
    "import os\n",
    "import numpy as np\n",
    "import matplotlib.pyplot as plt\n",
    "import torch\n",
    "import plotly\n",
    "import netCDF4\n",
    "from datetime import datetime\n",
    "from matplotlib.cm import get_cmap\n",
    "import re\n",
    "\n",
    "LATITUDE_ORIGIN = 63.4269097\n",
    "LONGITUDE_ORIGIN = 10.3969375\n",
    "CIRCUMFERENCE = 40075000 # [m], circumference\n",
    "circumference = CIRCUMFERENCE\n",
    "def latlon2xy(lat, lon, lat_origin, lon_origin):\n",
    "    x = np.deg2rad((lat - lat_origin)) / 2 / np.pi * CIRCUMFERENCE\n",
    "    y = np.deg2rad((lon - lon_origin)) / 2 / np.pi * CIRCUMFERENCE * np.cos(np.deg2rad(lat))\n",
    "    return x, y\n",
    "\n",
    "file = \"/Users/yaolin/Library/CloudStorage/OneDrive-NTNU/MASCOT_PhD/Data/Nidelva/SINMOD_DATA/samples_2022.05.11.nc\"\n",
    "figpath = \"/Users/yaolin/HomeOffice/GOOGLE/Experiments/20220510/fig/\"\n",
    "# file = \"/Users/yaolin/OneDrive - NTNU/MASCOT_PhD/Data/Nidelva/SINMOD_DATA/samples_2022.05.10.nc\"\n",
    "# figpath = \"/Users/yaolin/HomeOffice/GOOGLE/Experiments/20220509/fig/\"\n"
   ]
  },
  {
   "cell_type": "code",
   "execution_count": 2,
   "id": "e3a08171",
   "metadata": {},
   "outputs": [],
   "source": [
    "sinmod = netCDF4.Dataset(file)"
   ]
  },
  {
   "cell_type": "code",
   "execution_count": 3,
   "id": "a5838a56",
   "metadata": {},
   "outputs": [],
   "source": [
    "ind_before = re.search(\"samples_\", file)\n",
    "ind_after = re.search(\".nc\", file)\n",
    "date_string = file[ind_before.end():ind_after.start()]\n",
    "ref_timestamp = datetime.strptime(date_string, \"%Y.%m.%d\").timestamp()\n",
    "timestamp = np.array(sinmod[\"time\"]) * 24 * 3600 + ref_timestamp #change ref timestamp\n",
    "lat_sinmod = np.array(sinmod['gridLats'])\n",
    "lon_sinmod = np.array(sinmod['gridLons'])\n",
    "depth_sinmod = np.array(sinmod['zc'])\n",
    "salinity_sinmod = np.array(sinmod['salinity'])\n"
   ]
  },
  {
   "cell_type": "code",
   "execution_count": 4,
   "id": "ff82a023",
   "metadata": {},
   "outputs": [
    {
     "name": "stdout",
     "output_type": "stream",
     "text": [
      "0\n",
      "1\n",
      "2\n",
      "3\n",
      "4\n",
      "5\n",
      "6\n",
      "7\n",
      "8\n",
      "9\n",
      "10\n",
      "11\n",
      "12\n",
      "13\n",
      "14\n",
      "15\n",
      "16\n",
      "17\n",
      "18\n",
      "19\n",
      "20\n",
      "21\n",
      "22\n",
      "23\n",
      "24\n",
      "25\n",
      "26\n",
      "27\n",
      "28\n",
      "29\n",
      "30\n",
      "31\n",
      "32\n",
      "33\n",
      "34\n",
      "35\n",
      "36\n",
      "37\n",
      "38\n",
      "39\n",
      "40\n",
      "41\n",
      "42\n",
      "43\n",
      "44\n",
      "45\n",
      "46\n",
      "47\n",
      "48\n",
      "49\n",
      "50\n",
      "51\n",
      "52\n",
      "53\n",
      "54\n",
      "55\n",
      "56\n",
      "57\n",
      "58\n",
      "59\n",
      "60\n",
      "61\n",
      "62\n",
      "63\n",
      "64\n",
      "65\n",
      "66\n",
      "67\n",
      "68\n",
      "69\n",
      "70\n",
      "71\n",
      "72\n",
      "73\n",
      "74\n",
      "75\n",
      "76\n",
      "77\n",
      "78\n",
      "79\n",
      "80\n",
      "81\n",
      "82\n",
      "83\n",
      "84\n",
      "85\n",
      "86\n",
      "87\n",
      "88\n",
      "89\n",
      "90\n",
      "91\n",
      "92\n",
      "93\n",
      "94\n",
      "95\n",
      "96\n",
      "97\n",
      "98\n",
      "99\n",
      "100\n",
      "101\n",
      "102\n",
      "103\n",
      "104\n",
      "105\n",
      "106\n",
      "107\n",
      "108\n",
      "109\n",
      "110\n",
      "111\n",
      "112\n",
      "113\n",
      "114\n",
      "115\n",
      "116\n",
      "117\n",
      "118\n",
      "119\n"
     ]
    }
   ],
   "source": [
    "for i in range(salinity_sinmod.shape[0]):\n",
    "    print(i)\n",
    "    plt.figure(figsize=(12, 10))\n",
    "    plt.scatter(lon_sinmod, lat_sinmod, c=salinity_sinmod[i, 0, :, :], cmap=get_cmap(\"BrBG\", 10), vmin=10, vmax=30)\n",
    "    plt.xlabel(\"Lon [deg]\")\n",
    "    plt.ylabel(\"Lat [deg]\")\n",
    "    plt.title(\"SINMOD Surface Salinity Estimation on \" + datetime.fromtimestamp(timestamp[i]).strftime(\"%H:%M:%S\"))\n",
    "    plt.colorbar()\n",
    "    plt.savefig(figpath+\"P_{:03d}.jpg\".format(i))\n",
    "    plt.close(\"all\")\n"
   ]
  },
  {
   "cell_type": "code",
   "execution_count": 7,
   "id": "244f5263",
   "metadata": {},
   "outputs": [
    {
     "name": "stdout",
     "output_type": "stream",
     "text": [
      "2022-05-09 14:57:07\n",
      "2022-05-09 15:06:32\n"
     ]
    }
   ],
   "source": [
    "# load AUV\n",
    "import pandas as pd\n",
    "datapath = ''\n",
    "# sal = pd.read_csv(\"Salinity.csv\")\n",
    "# est = pd.read_csv(\"EstimatedState.csv\")\n",
    "# depth = pd.read_csv(\"Depth.csv\")\n",
    "\n",
    "\n",
    "#% Data extraction from the raw data\n",
    "# rawTemp = pd.read_csv(datapath + \"Temperature.csv\", delimiter=', ', header=0, engine='python')\n",
    "rawLoc = pd.read_csv(datapath + \"EstimatedState.csv\", delimiter=', ', header=0, engine='python')\n",
    "rawSal = pd.read_csv(datapath + \"Salinity.csv\", delimiter=', ', header=0, engine='python')\n",
    "rawDepth = pd.read_csv(datapath + \"Depth.csv\", delimiter=', ', header=0, engine='python')\n",
    "\n",
    "# To group all the time stamp together, since only second accuracy matters\n",
    "rawSal.iloc[:, 0] = np.ceil(rawSal.iloc[:, 0])\n",
    "# rawTemp.iloc[:, 0] = np.ceil(rawTemp.iloc[:, 0])\n",
    "# rawCTDTemp = rawTemp[rawTemp.iloc[:, 2] == 'SmartX']\n",
    "rawLoc.iloc[:, 0] = np.ceil(rawLoc.iloc[:, 0])\n",
    "rawDepth.iloc[:, 0] = np.ceil(rawDepth.iloc[:, 0])\n",
    "rawDepth.iloc[:, 0] = np.ceil(rawDepth.iloc[:, 0])\n",
    "\n",
    "depth_ctd = rawDepth[rawDepth.iloc[:, 2] == 'SmartX'][\"value (m)\"].groupby(rawDepth[\"timestamp (seconds since 01/01/1970)\"]).mean()\n",
    "depth_dvl = rawDepth[rawDepth.iloc[:, 2] == 'DVL'][\"value (m)\"].groupby(rawDepth[\"timestamp (seconds since 01/01/1970)\"]).mean()\n",
    "depth_est = rawLoc[\"depth (m)\"].groupby(rawLoc[\"timestamp (seconds since 01/01/1970)\"]).mean()\n",
    "\n",
    "# indices used to extract data\n",
    "lat_origin = rawLoc[\"lat (rad)\"].groupby(rawLoc[\"timestamp (seconds since 01/01/1970)\"]).mean()\n",
    "lon_origin = rawLoc[\"lon (rad)\"].groupby(rawLoc[\"timestamp (seconds since 01/01/1970)\"]).mean()\n",
    "x_loc = rawLoc[\"x (m)\"].groupby(rawLoc[\"timestamp (seconds since 01/01/1970)\"]).mean()\n",
    "y_loc = rawLoc[\"y (m)\"].groupby(rawLoc[\"timestamp (seconds since 01/01/1970)\"]).mean()\n",
    "z_loc = rawLoc[\"z (m)\"].groupby(rawLoc[\"timestamp (seconds since 01/01/1970)\"]).mean()\n",
    "depth = rawLoc[\"depth (m)\"].groupby(rawLoc[\"timestamp (seconds since 01/01/1970)\"]).mean()\n",
    "time_loc = rawLoc[\"timestamp (seconds since 01/01/1970)\"].groupby(rawLoc[\"timestamp (seconds since 01/01/1970)\"]).mean()\n",
    "time_sal= rawSal[\"timestamp (seconds since 01/01/1970)\"].groupby(rawSal[\"timestamp (seconds since 01/01/1970)\"]).mean()\n",
    "# time_temp = rawCTDTemp[\"timestamp (seconds since 01/01/1970)\"].groupby(rawCTDTemp[\"timestamp (seconds since 01/01/1970)\"]).mean()\n",
    "dataSal = rawSal[\"value (psu)\"].groupby(rawSal[\"timestamp (seconds since 01/01/1970)\"]).mean()\n",
    "# dataTemp = rawCTDTemp.iloc[:, -1].groupby(rawCTDTemp[\"timestamp\"]).mean()\n",
    "\n",
    "#% Rearrange data according to their timestamp\n",
    "data = []\n",
    "time_mission = []\n",
    "xauv = []\n",
    "yauv = []\n",
    "zauv = []\n",
    "dauv = []\n",
    "sal_auv = []\n",
    "temp_auv = []\n",
    "lat_auv = []\n",
    "lon_auv = []\n",
    "\n",
    "for i in range(len(time_loc)):\n",
    "#     if np.any(time_sal.isin([time_loc.iloc[i]])) and np.any(time_temp.isin([time_loc.iloc[i]])):\n",
    "    if np.any(time_sal.isin([time_loc.iloc[i]])):\n",
    "        time_mission.append(time_loc.iloc[i])\n",
    "        xauv.append(x_loc.iloc[i])\n",
    "        yauv.append(y_loc.iloc[i])\n",
    "        zauv.append(z_loc.iloc[i])\n",
    "        dauv.append(depth.iloc[i])\n",
    "        lat_temp = np.rad2deg(lat_origin.iloc[i]) + np.rad2deg(x_loc.iloc[i] * np.pi * 2.0 / circumference)\n",
    "        lat_auv.append(lat_temp)\n",
    "        lon_auv.append(np.rad2deg(lon_origin.iloc[i]) + np.rad2deg(y_loc.iloc[i] * np.pi * 2.0 / (circumference * np.cos(np.deg2rad(lat_temp)))))\n",
    "        sal_auv.append(dataSal[time_sal.isin([time_loc.iloc[i]])].iloc[0])\n",
    "#         temp_auv.append(dataTemp[time_temp.isin([time_loc.iloc[i]])].iloc[0])\n",
    "    else:\n",
    "        print(datetime.fromtimestamp(time_loc.iloc[i]))\n",
    "        continue\n",
    "\n",
    "lat4, lon4 = 63.446905, 10.419426  # right bottom corner\n",
    "lat_auv = np.array(lat_auv).reshape(-1, 1)\n",
    "lon_auv = np.array(lon_auv).reshape(-1, 1)\n",
    "Dx = np.deg2rad(lat_auv - lat4) / 2 / np.pi * circumference\n",
    "Dy = np.deg2rad(lon_auv - lon4) / 2 / np.pi * circumference * np.cos(np.deg2rad(lat_auv))\n",
    "\n",
    "xauv = np.array(xauv).reshape(-1, 1)\n",
    "yauv = np.array(yauv).reshape(-1, 1)\n",
    "\n",
    "alpha = np.deg2rad(60)\n",
    "Rc = np.array([[np.cos(alpha), -np.sin(alpha)], [np.sin(alpha), np.cos(alpha)]])\n",
    "TT = (Rc @ np.hstack((Dx, Dy)).T).T\n",
    "xauv_new = TT[:, 0].reshape(-1, 1)\n",
    "yauv_new = TT[:, 1].reshape(-1, 1)\n",
    "\n",
    "zauv = np.array(zauv).reshape(-1, 1)\n",
    "dauv = np.array(dauv).reshape(-1, 1)\n",
    "sal_auv = np.array(sal_auv).reshape(-1, 1)\n",
    "# temp_auv = np.array(temp_auv).reshape(-1, 1)\n",
    "time_mission = np.array(time_mission).reshape(-1, 1)\n",
    "\n",
    "# datasheet = np.hstack((time_mission, lat_auv, lon_auv, xauv, yauv, zauv, dauv, sal_auv, temp_auv))"
   ]
  },
  {
   "cell_type": "code",
   "execution_count": 6,
   "id": "0a860b78",
   "metadata": {},
   "outputs": [
    {
     "data": {
      "text/plain": [
       "<matplotlib.colorbar.Colorbar at 0x1240439a0>"
      ]
     },
     "execution_count": 6,
     "metadata": {},
     "output_type": "execute_result"
    },
    {
     "data": {
      "image/png": "[encoded data removed]",
      "text/plain": [
       "<Figure size 432x288 with 2 Axes>"
      ]
     },
     "metadata": {
      "needs_background": "light"
     },
     "output_type": "display_data"
    }
   ],
   "source": [
    "plt.scatter(lon_auv, lat_auv, c=sal_auv, cmap=get_cmap(\"BrBG\", 10), vmin=10, vmax=20)\n",
    "plt.colorbar()\n"
   ]
  },
  {
   "cell_type": "code",
   "execution_count": 9,
   "id": "253f50d6",
   "metadata": {},
   "outputs": [
    {
     "ename": "ModuleNotFoundError",
     "evalue": "No module named '_tkinter'",
     "output_type": "error",
     "traceback": [
      "\u001b[0;31m---------------------------------------------------------------------------\u001b[0m",
      "\u001b[0;31mModuleNotFoundError\u001b[0m                       Traceback (most recent call last)",
      "Input \u001b[0;32mIn [9]\u001b[0m, in \u001b[0;36m<cell line: 1>\u001b[0;34m()\u001b[0m\n\u001b[0;32m----> 1\u001b[0m \u001b[38;5;28;01mfrom\u001b[39;00m \u001b[38;5;21;01mDataHandler\u001b[39;00m\u001b[38;5;21;01m.\u001b[39;00m\u001b[38;5;21;01mSINMOD\u001b[39;00m \u001b[38;5;28;01mimport\u001b[39;00m SINMOD\n",
      "File \u001b[0;32m~/HomeOffice/DataHandler/SINMOD.py:8\u001b[0m, in \u001b[0;36m<module>\u001b[0;34m\u001b[0m\n\u001b[1;32m      1\u001b[0m \u001b[38;5;124;03m\"\"\"\u001b[39;00m\n\u001b[1;32m      2\u001b[0m \u001b[38;5;124;03mThis class handles SINMOD data operation\u001b[39;00m\n\u001b[1;32m      3\u001b[0m \u001b[38;5;124;03mAuthor: Yaolin Ge\u001b[39;00m\n\u001b[1;32m      4\u001b[0m \u001b[38;5;124;03mContact: yaolin.ge@ntnu.no\u001b[39;00m\n\u001b[1;32m      5\u001b[0m \u001b[38;5;124;03mDate: 2022-02-23\u001b[39;00m\n\u001b[1;32m      6\u001b[0m \u001b[38;5;124;03m\"\"\"\u001b[39;00m\n\u001b[1;32m      7\u001b[0m \u001b[38;5;28;01mimport\u001b[39;00m \u001b[38;5;21;01mos\u001b[39;00m\n\u001b[0;32m----> 8\u001b[0m \u001b[38;5;28;01mfrom\u001b[39;00m \u001b[38;5;21;01mtkinter\u001b[39;00m \u001b[38;5;28;01mimport\u001b[39;00m filedialog \u001b[38;5;28;01mas\u001b[39;00m fd\n\u001b[1;32m      9\u001b[0m \u001b[38;5;28;01mfrom\u001b[39;00m \u001b[38;5;21;01musr_func\u001b[39;00m \u001b[38;5;28;01mimport\u001b[39;00m \u001b[38;5;241m*\u001b[39m\n\u001b[1;32m     12\u001b[0m \u001b[38;5;28;01mclass\u001b[39;00m \u001b[38;5;21;01mSINMOD\u001b[39;00m:\n",
      "File \u001b[0;32m/usr/local/Cellar/python@3.9/3.9.12/Frameworks/Python.framework/Versions/3.9/lib/python3.9/tkinter/__init__.py:37\u001b[0m, in \u001b[0;36m<module>\u001b[0;34m\u001b[0m\n\u001b[1;32m     34\u001b[0m \u001b[38;5;28;01mimport\u001b[39;00m \u001b[38;5;21;01msys\u001b[39;00m\n\u001b[1;32m     35\u001b[0m \u001b[38;5;28;01mimport\u001b[39;00m \u001b[38;5;21;01mtypes\u001b[39;00m\n\u001b[0;32m---> 37\u001b[0m \u001b[38;5;28;01mimport\u001b[39;00m \u001b[38;5;21;01m_tkinter\u001b[39;00m \u001b[38;5;66;03m# If this fails your Python may not be configured for Tk\u001b[39;00m\n\u001b[1;32m     38\u001b[0m TclError \u001b[38;5;241m=\u001b[39m _tkinter\u001b[38;5;241m.\u001b[39mTclError\n\u001b[1;32m     39\u001b[0m \u001b[38;5;28;01mfrom\u001b[39;00m \u001b[38;5;21;01mtkinter\u001b[39;00m\u001b[38;5;21;01m.\u001b[39;00m\u001b[38;5;21;01mconstants\u001b[39;00m \u001b[38;5;28;01mimport\u001b[39;00m \u001b[38;5;241m*\u001b[39m\n",
      "\u001b[0;31mModuleNotFoundError\u001b[0m: No module named '_tkinter'"
     ]
    }
   ],
   "source": [
    "from DataHandler.SINMOD import SINMOD"
   ]
  },
  {
   "cell_type": "code",
   "execution_count": 10,
   "id": "c169fe85",
   "metadata": {},
   "outputs": [
    {
     "name": "stdout",
     "output_type": "stream",
     "text": [
      "/bin/bash: pip: command not found\r\n"
     ]
    }
   ],
   "source": []
  },
  {
   "cell_type": "code",
   "execution_count": null,
   "id": "f52a4e4c",
   "metadata": {},
   "outputs": [],
   "source": []
  }
 ],
 "metadata": {
  "kernelspec": {
   "display_name": "Python 3 (ipykernel)",
   "language": "python",
   "name": "python3"
  },
  "language_info": {
   "codemirror_mode": {
    "name": "ipython",
    "version": 3
   },
   "file_extension": ".py",
   "mimetype": "text/x-python",
   "name": "python",
   "nbconvert_exporter": "python",
   "pygments_lexer": "ipython3",
   "version": "3.9.12"
  }
 },
 "nbformat": 4,
 "nbformat_minor": 5
}
