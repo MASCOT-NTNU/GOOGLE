{
 "cells": [
  {
   "cell_type": "code",
   "execution_count": 38,
   "id": "650e9c11",
   "metadata": {
    "pycharm": {
     "name": "#%%\n"
    }
   },
   "outputs": [],
   "source": [
    "import os\n",
    "import numpy as np\n",
    "import matplotlib.pyplot as plt\n",
    "# import torch\n",
    "import plotly\n",
    "import netCDF4\n",
    "from datetime import datetime\n",
    "from matplotlib.cm import get_cmap\n",
    "import re\n",
    "import pandas as pd\n",
    "from shapely.geometry import Point, Polygon\n",
    "\n",
    "LATITUDE_ORIGIN = 63.4269097\n",
    "LONGITUDE_ORIGIN = 10.3969375\n",
    "CIRCUMFERENCE = 40075000 # [m], circumference\n",
    "circumference = CIRCUMFERENCE\n",
    "def latlon2xy(lat, lon, lat_origin, lon_origin):\n",
    "    x = np.deg2rad((lat - lat_origin)) / 2 / np.pi * CIRCUMFERENCE\n",
    "    y = np.deg2rad((lon - lon_origin)) / 2 / np.pi * CIRCUMFERENCE * np.cos(np.deg2rad(lat))\n",
    "    return x, y\n",
    "\n",
    "# file = \"/Users/yaolin/Library/CloudStorage/OneDrive-NTNU/MASCOT_PhD/Data/Nidelva/SINMOD_DATA/samples_2022.05.11.nc\"\n",
    "# figpath = \"/Users/yaolin/HomeOffice/GOOGLE/Experiments/20220510/fig/\"\n",
    "# file = \"/Users/yaolin/OneDrive - NTNU/MASCOT_PhD/Data/Nidelva/SINMOD_DATA/samples_2022.05.10.nc\"\n",
    "# figpath = \"/Users/yaolin/HomeOffice/GOOGLE/Experiments/20220509/fig/\"\n",
    "\n",
    "FILEPATH = \"/Users/yaoling/OneDrive - NTNU/MASCOT_PhD/Data/Nidelva/SINMOD_DATA/samples_2022.05.11.nc\"\n",
    "FIGPATH = \"/Users/yaoling/HomeOffice/GOOGLE/Nidelva2D/fig/EDA/\"\n",
    "POLYGONPATH = \"/Users/yaoling/HomeOffice/GOOGLE/Nidelva2D/Test/\"\n",
    "polygon_border = pd.read_csv(POLYGONPATH + \"polygon_border.csv\").to_numpy()\n",
    "polygon_obstacle = pd.read_csv(POLYGONPATH + \"polygon_obstacle.csv\").to_numpy()\n",
    "polygon_border_shapely = Polygon(polygon_border)\n",
    "polygon_obstacle_shapely = Polygon(polygon_obstacle)"
   ]
  },
  {
   "cell_type": "code",
   "execution_count": 39,
   "id": "e3a08171",
   "metadata": {
    "pycharm": {
     "name": "#%%\n"
    }
   },
   "outputs": [],
   "source": [
    "sinmod = netCDF4.Dataset(FILEPATH)"
   ]
  },
  {
   "cell_type": "code",
   "execution_count": 40,
   "id": "a5838a56",
   "metadata": {
    "pycharm": {
     "name": "#%%\n"
    }
   },
   "outputs": [],
   "source": [
    "ind_before = re.search(\"samples_\", FILEPATH)\n",
    "ind_after = re.search(\".nc\", FILEPATH)\n",
    "date_string = FILEPATH[ind_before.end():ind_after.start()]\n",
    "ref_timestamp = datetime.strptime(date_string, \"%Y.%m.%d\").timestamp()\n",
    "timestamp = np.array(sinmod[\"time\"]) * 24 * 3600 + ref_timestamp #change ref timestamp\n",
    "lat_sinmod = np.array(sinmod['gridLats'])\n",
    "lon_sinmod = np.array(sinmod['gridLons'])\n",
    "depth_sinmod = np.array(sinmod['zc'])\n",
    "salinity_sinmod = np.array(sinmod['salinity'])\n"
   ]
  },
  {
   "cell_type": "code",
   "execution_count": 40,
   "outputs": [],
   "source": [],
   "metadata": {
    "collapsed": false,
    "pycharm": {
     "name": "#%%\n"
    }
   }
  },
  {
   "cell_type": "code",
   "execution_count": 41,
   "outputs": [],
   "source": [
    "from shapely.geometry import Point, Polygon\n",
    "import matplotlib.tri as tri\n",
    "\n",
    "def is_masked(lat, lon, polygon_border=None, polygon_obstacle=None):\n",
    "    point = Point(lat, lon)\n",
    "    masked = False\n",
    "    if polygon_obstacle.contains(point) or not polygon_border.contains(point):\n",
    "        masked = True\n",
    "    return masked\n",
    "\n",
    "\n",
    "def plotf_vector(lon, lat, values, title=None, alpha=None, cmap=get_cmap(\"BrBG\", 10), cbar_title='test', colorbar=True,\n",
    "                 vmin=None, vmax=None, ticks=None, stepsize=None, threshold=None, polygon_border=None, polygon_obstacle=None,\n",
    "                 xlabel=None, ylabel=None):\n",
    "\n",
    "    triangulated = tri.Triangulation(lon, lat)\n",
    "    lon_triangulated = lon[triangulated.triangles].mean(axis=1)\n",
    "    lat_triangulated = lat[triangulated.triangles].mean(axis=1)\n",
    "\n",
    "    ind_mask = []\n",
    "    for i in range(len(lon_triangulated)):\n",
    "        ind_mask.append(is_masked(lat_triangulated[i], lon_triangulated[i], Polygon(polygon_border),\n",
    "                                  Polygon(polygon_obstacle)))\n",
    "    triangulated.set_mask(ind_mask)\n",
    "    refiner = tri.UniformTriRefiner(triangulated)\n",
    "    triangulated_refined, value_refined = refiner.refine_field(values.flatten(), subdiv=3)\n",
    "\n",
    "    ax = plt.gca()\n",
    "    # ax.triplot(triangulated, lw=0.5, color='white')\n",
    "    if np.any([vmin, vmax]):\n",
    "        levels = np.arange(vmin, vmax, stepsize)\n",
    "    else:\n",
    "        levels = None\n",
    "\n",
    "    # print(\"levels: \", levels)\n",
    "\n",
    "    if np.any(levels):\n",
    "        linewidths = np.ones_like(levels) * .3\n",
    "        colors = len(levels) * ['black']\n",
    "        if threshold:\n",
    "            dist = np.abs(threshold - levels)\n",
    "            ind = np.where(dist == np.amin(dist))[0]\n",
    "            linewidths[ind] = 3\n",
    "            colors[ind[0]] = 'red'\n",
    "        contourplot = ax.tricontourf(triangulated_refined, value_refined, levels=levels, cmap=cmap, alpha=alpha)\n",
    "        ax.tricontour(triangulated_refined, value_refined, levels=levels, linewidths=linewidths, colors=colors,\n",
    "                      alpha=alpha)\n",
    "    else:\n",
    "        contourplot = ax.tricontourf(triangulated_refined, value_refined, cmap=cmap, alpha=alpha)\n",
    "        ax.tricontour(triangulated_refined, value_refined, vmin=vmin, vmax=vmax, alpha=alpha)\n",
    "\n",
    "    if colorbar:\n",
    "        cbar = plt.colorbar(contourplot, ax=ax, ticks=ticks)\n",
    "        cbar.ax.set_title(cbar_title)\n",
    "    # plt.plot(knowledge.polygon_border_xy[:, 1], knowledge.polygon_border_xy[:, 0], 'k-', linewidth=1)\n",
    "    # plt.plot(knowledge.polygon_obstacle_xy[:, 1], knowledge.polygon_obstacle_xy[:, 0], 'k-', linewidth=1)\n",
    "    # plt.plot(knowledge.starting_location.y, knowledge.starting_location.x, 'kv', ms=10)\n",
    "    # plt.plot(knowledge.goal_location.y, knowledge.goal_location.x, 'rv', ms=10)\n",
    "    plt.xlim([np.amin(lon), np.amax(lon)])\n",
    "    plt.ylim([np.amin(lat), np.amax(lat)])\n",
    "    plt.title(title)\n",
    "    plt.xlabel(xlabel)\n",
    "    plt.ylabel(ylabel)\n",
    "    plt.plot(polygon_border[:, 1], polygon_border[:, 0], 'k-.', lw=2)\n",
    "    plt.plot(polygon_obstacle[:, 1], polygon_obstacle[:, 0], 'k-.', lw=2)\n",
    "\n",
    "    # plt.show()"
   ],
   "metadata": {
    "collapsed": false,
    "pycharm": {
     "name": "#%%\n"
    }
   }
  },
  {
   "cell_type": "code",
   "execution_count": 41,
   "outputs": [],
   "source": [],
   "metadata": {
    "collapsed": false,
    "pycharm": {
     "name": "#%%\n"
    }
   }
  },
  {
   "cell_type": "code",
   "execution_count": 42,
   "id": "ff82a023",
   "metadata": {
    "pycharm": {
     "name": "#%%\n"
    }
   },
   "outputs": [
    {
     "name": "stdout",
     "output_type": "stream",
     "text": [
      "0\n",
      "1\n",
      "2\n",
      "3\n",
      "4\n",
      "5\n",
      "6\n",
      "7\n",
      "8\n",
      "9\n",
      "10\n",
      "11\n",
      "12\n",
      "13\n",
      "14\n",
      "15\n",
      "16\n",
      "17\n",
      "18\n",
      "19\n",
      "20\n",
      "21\n",
      "22\n",
      "23\n",
      "24\n",
      "25\n",
      "26\n",
      "27\n",
      "28\n",
      "29\n",
      "30\n",
      "31\n",
      "32\n",
      "33\n",
      "34\n",
      "35\n",
      "36\n",
      "37\n",
      "38\n",
      "39\n",
      "40\n",
      "41\n",
      "42\n",
      "43\n",
      "44\n",
      "45\n",
      "46\n",
      "47\n",
      "48\n",
      "49\n",
      "50\n",
      "51\n",
      "52\n",
      "53\n",
      "54\n",
      "55\n",
      "56\n",
      "57\n",
      "58\n",
      "59\n",
      "60\n",
      "61\n",
      "62\n",
      "63\n",
      "64\n",
      "65\n",
      "66\n",
      "67\n",
      "68\n",
      "69\n",
      "70\n",
      "71\n",
      "72\n",
      "73\n",
      "74\n",
      "75\n",
      "76\n",
      "77\n",
      "78\n",
      "79\n",
      "80\n",
      "81\n",
      "82\n",
      "83\n",
      "84\n",
      "85\n",
      "86\n",
      "87\n",
      "88\n",
      "89\n",
      "90\n",
      "91\n",
      "92\n",
      "93\n",
      "94\n",
      "95\n",
      "96\n",
      "97\n",
      "98\n",
      "99\n",
      "100\n",
      "101\n",
      "102\n",
      "103\n",
      "104\n",
      "105\n",
      "106\n",
      "107\n",
      "108\n",
      "109\n",
      "110\n",
      "111\n",
      "112\n",
      "113\n",
      "114\n",
      "115\n",
      "116\n",
      "117\n",
      "118\n",
      "119\n"
     ]
    }
   ],
   "source": [
    "for i in range(salinity_sinmod.shape[0]):\n",
    "    print(i)\n",
    "    plt.figure(figsize=(12, 10))\n",
    "    plotf_vector(lon=lon_sinmod.flatten(), lat=lat_sinmod.flatten(), values=salinity_sinmod[i, 0, :, :],\n",
    "                 title=\"SINMOD surface salinity estimation on \" + datetime.fromtimestamp(timestamp[i]).strftime(\"%H:%M:%S, %Y-%m-%d\"),\n",
    "                 alpha=None, cmap=get_cmap(\"BrBG\", 10), cbar_title='Salinity', colorbar=True,\n",
    "                 vmin=10, vmax=32, ticks=None, stepsize=2, threshold=26.8, polygon_border=polygon_border,\n",
    "                 polygon_obstacle=polygon_obstacle,\n",
    "                 xlabel=\"Lon [deg]\", ylabel=\"Lat [deg]\")\n",
    "    # plt.plot(polygon_border[:, 1], polygon_border[:, 0], 'k-.')\n",
    "    # plt.plot(polygon_obstacle[:, 1], polygon_obstacle[:, 0], 'k-.')\n",
    "    # plt.scatter(lon_sinmod, lat_sinmod, c=salinity_sinmod[i, 0, :, :], cmap=get_cmap(\"BrBG\", 10), vmin=10, vmax=30)\n",
    "    # plt.xlabel(\"Lon [deg]\")\n",
    "    # plt.ylabel(\"Lat [deg]\")\n",
    "    # plt.title(\"SINMOD Surface Salinity Estimation on \" + datetime.fromtimestamp(timestamp[i]).strftime(\"%H:%M:%S\"))\n",
    "    # plt.colorbar()\n",
    "    plt.ylim([63.43, 63.475])\n",
    "    plt.xlim([10.34, 10.44])\n",
    "    plt.savefig(FIGPATH+\"sinmod/P_{:03d}.jpg\".format(i), dpi=300)\n",
    "    # plt.show()\n",
    "    plt.close(\"all\")\n",
    "    # break\n"
   ]
  },
  {
   "cell_type": "code",
   "execution_count": 51,
   "id": "244f5263",
   "metadata": {
    "pycharm": {
     "name": "#%%\n"
    }
   },
   "outputs": [
    {
     "data": {
      "text/plain": "<Figure size 432x288 with 2 Axes>",
      "image/png": "[encoded data removed]"
     },
     "metadata": {
      "needs_background": "light"
     },
     "output_type": "display_data"
    }
   ],
   "source": [
    "lon = lon_sinmod.flatten()\n",
    "lat = lat_sinmod.flatten()\n",
    "values=salinity_sinmod[0, 0, :, :].flatten()\n",
    "\n",
    "plt.scatter(lon, lat, c=values, vmin=0, vmax=30)\n",
    "plt.colorbar()\n",
    "df = pd.DataFrame(np.vstack((lat, lon, values)).T, columns=['lat', 'lon', 'salinity'])\n",
    "df.to_csv(FIGPATH + \"sinmod.csv\", index=False)"
   ]
  },
  {
   "cell_type": "code",
   "execution_count": 52,
   "id": "0a860b78",
   "metadata": {
    "pycharm": {
     "name": "#%%\n"
    }
   },
   "outputs": [
    {
     "data": {
      "text/plain": "(17731, 3)"
     },
     "execution_count": 52,
     "metadata": {},
     "output_type": "execute_result"
    }
   ],
   "source": [
    "df.shape"
   ]
  },
  {
   "cell_type": "code",
   "execution_count": 9,
   "id": "253f50d6",
   "metadata": {
    "pycharm": {
     "name": "#%%\n"
    }
   },
   "outputs": [
    {
     "ename": "ModuleNotFoundError",
     "evalue": "No module named '_tkinter'",
     "output_type": "error",
     "traceback": [
      "\u001B[0;31m---------------------------------------------------------------------------\u001B[0m",
      "\u001B[0;31mModuleNotFoundError\u001B[0m                       Traceback (most recent call last)",
      "Input \u001B[0;32mIn [9]\u001B[0m, in \u001B[0;36m<cell line: 1>\u001B[0;34m()\u001B[0m\n\u001B[0;32m----> 1\u001B[0m \u001B[38;5;28;01mfrom\u001B[39;00m \u001B[38;5;21;01mDataHandler\u001B[39;00m\u001B[38;5;21;01m.\u001B[39;00m\u001B[38;5;21;01mSINMOD\u001B[39;00m \u001B[38;5;28;01mimport\u001B[39;00m SINMOD\n",
      "File \u001B[0;32m~/HomeOffice/DataHandler/SINMOD.py:8\u001B[0m, in \u001B[0;36m<module>\u001B[0;34m\u001B[0m\n\u001B[1;32m      1\u001B[0m \u001B[38;5;124;03m\"\"\"\u001B[39;00m\n\u001B[1;32m      2\u001B[0m \u001B[38;5;124;03mThis class handles SINMOD data operation\u001B[39;00m\n\u001B[1;32m      3\u001B[0m \u001B[38;5;124;03mAuthor: Yaolin Ge\u001B[39;00m\n\u001B[1;32m      4\u001B[0m \u001B[38;5;124;03mContact: yaolin.ge@ntnu.no\u001B[39;00m\n\u001B[1;32m      5\u001B[0m \u001B[38;5;124;03mDate: 2022-02-23\u001B[39;00m\n\u001B[1;32m      6\u001B[0m \u001B[38;5;124;03m\"\"\"\u001B[39;00m\n\u001B[1;32m      7\u001B[0m \u001B[38;5;28;01mimport\u001B[39;00m \u001B[38;5;21;01mos\u001B[39;00m\n\u001B[0;32m----> 8\u001B[0m \u001B[38;5;28;01mfrom\u001B[39;00m \u001B[38;5;21;01mtkinter\u001B[39;00m \u001B[38;5;28;01mimport\u001B[39;00m filedialog \u001B[38;5;28;01mas\u001B[39;00m fd\n\u001B[1;32m      9\u001B[0m \u001B[38;5;28;01mfrom\u001B[39;00m \u001B[38;5;21;01musr_func\u001B[39;00m \u001B[38;5;28;01mimport\u001B[39;00m \u001B[38;5;241m*\u001B[39m\n\u001B[1;32m     12\u001B[0m \u001B[38;5;28;01mclass\u001B[39;00m \u001B[38;5;21;01mSINMOD\u001B[39;00m:\n",
      "File \u001B[0;32m/usr/local/Cellar/python@3.9/3.9.12/Frameworks/Python.framework/Versions/3.9/lib/python3.9/tkinter/__init__.py:37\u001B[0m, in \u001B[0;36m<module>\u001B[0;34m\u001B[0m\n\u001B[1;32m     34\u001B[0m \u001B[38;5;28;01mimport\u001B[39;00m \u001B[38;5;21;01msys\u001B[39;00m\n\u001B[1;32m     35\u001B[0m \u001B[38;5;28;01mimport\u001B[39;00m \u001B[38;5;21;01mtypes\u001B[39;00m\n\u001B[0;32m---> 37\u001B[0m \u001B[38;5;28;01mimport\u001B[39;00m \u001B[38;5;21;01m_tkinter\u001B[39;00m \u001B[38;5;66;03m# If this fails your Python may not be configured for Tk\u001B[39;00m\n\u001B[1;32m     38\u001B[0m TclError \u001B[38;5;241m=\u001B[39m _tkinter\u001B[38;5;241m.\u001B[39mTclError\n\u001B[1;32m     39\u001B[0m \u001B[38;5;28;01mfrom\u001B[39;00m \u001B[38;5;21;01mtkinter\u001B[39;00m\u001B[38;5;21;01m.\u001B[39;00m\u001B[38;5;21;01mconstants\u001B[39;00m \u001B[38;5;28;01mimport\u001B[39;00m \u001B[38;5;241m*\u001B[39m\n",
      "\u001B[0;31mModuleNotFoundError\u001B[0m: No module named '_tkinter'"
     ]
    }
   ],
   "source": []
  },
  {
   "cell_type": "code",
   "execution_count": 10,
   "id": "c169fe85",
   "metadata": {
    "pycharm": {
     "name": "#%%\n"
    }
   },
   "outputs": [
    {
     "name": "stdout",
     "output_type": "stream",
     "text": [
      "/bin/bash: pip: command not found\r\n"
     ]
    }
   ],
   "source": []
  },
  {
   "cell_type": "code",
   "execution_count": null,
   "id": "f52a4e4c",
   "metadata": {
    "pycharm": {
     "name": "#%%\n"
    }
   },
   "outputs": [],
   "source": []
  }
 ],
 "metadata": {
  "kernelspec": {
   "display_name": "Python 3 (ipykernel)",
   "language": "python",
   "name": "python3"
  },
  "language_info": {
   "codemirror_mode": {
    "name": "ipython",
    "version": 3
   },
   "file_extension": ".py",
   "mimetype": "text/x-python",
   "name": "python",
   "nbconvert_exporter": "python",
   "pygments_lexer": "ipython3",
   "version": "3.9.12"
  }
 },
 "nbformat": 4,
 "nbformat_minor": 5
}