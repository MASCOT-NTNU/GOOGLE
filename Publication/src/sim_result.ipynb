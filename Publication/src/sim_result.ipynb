{
 "cells": [
  {
   "cell_type": "markdown",
   "id": "f094b695",
   "metadata": {},
   "source": [
    "# Simulation result analysis"
   ]
  },
  {
   "cell_type": "code",
   "execution_count": 12,
   "id": "c8c481eb",
   "metadata": {},
   "outputs": [
    {
     "name": "stdout",
     "output_type": "stream",
     "text": [
      "[]\n",
      "['IVR.npy', 'README.md', 'EIBV.npy', 'EQUAL.npy']\n"
     ]
    }
   ],
   "source": [
    "from Config import Config\n",
    "from usr_func.checkfolder import checkfolder\n",
    "import numpy as np\n",
    "import matplotlib.pyplot as plt\n",
    "import os \n",
    "from tqdm import tqdm\n",
    "from matplotlib.gridspec import GridSpec\n",
    "\n",
    "plt.rcParams[\"font.family\"] = \"Times New Roman\"\n",
    "plt.rcParams[\"font.size\"] = 20\n",
    "\n",
    "filepath = \"./npy/\"\n",
    "print(os.listdir(figpath))\n",
    "print(os.listdir(filepath))\n",
    "\n",
    "c = Config()\n",
    "plg_b = c.get_polygon_border()\n",
    "plg_o = c.get_polygon_obstacle()\n"
   ]
  },
  {
   "cell_type": "code",
   "execution_count": 22,
   "id": "f245e4ce",
   "metadata": {},
   "outputs": [],
   "source": [
    "figpath = \"./../../fig/Sim_2DNidelva/Cases/\"\n",
    "d_eq = np.load(filepath + \"equal.npy\")\n",
    "d_eibv = np.load(filepath + \"eibv.npy\")\n",
    "d_ivr = np.load(filepath + \"ivr.npy\")"
   ]
  },
  {
   "cell_type": "code",
   "execution_count": 23,
   "id": "6d667a39",
   "metadata": {},
   "outputs": [
    {
     "name": "stderr",
     "output_type": "stream",
     "text": [
      "100%|██████████████████████████████████████████████████████████████████████████████████████████████████████████████████████████████████████████████████████████████████████████████████████████████████████████████████████████████████████████████████████████████| 51/51 [00:31<00:00,  1.60it/s]\n"
     ]
    }
   ],
   "source": [
    "\n",
    "def plotf(data, j, i, title):\n",
    "    ax.plot(plg_b[:, 1], plg_b[:, 0], 'r-.')\n",
    "    ax.plot(plg_o[:, 1], plg_o[:, 0], 'r-.')\n",
    "    ax.set_xlabel(\"East\")\n",
    "    ax.set_ylabel(\"North\")\n",
    "    ax.set_title(title)\n",
    "    ax.set_aspect(\"equal\")\n",
    "    for j in range(data.shape[0]):\n",
    "        ax.plot(data[j, :i, 1], data[j, :i, 0], 'k.-', alpha=.1)\n",
    "        \n",
    "for i in tqdm(range(data.shape[1])):\n",
    "    fig = plt.figure(figsize=(40, 12))\n",
    "    gs = GridSpec(nrows=1, ncols=3)\n",
    "    \n",
    "    ax = fig.add_subplot(gs[0])\n",
    "    plotf(d_eq, j, i, \"EIBV: 1.0, IVR: 1.0\")\n",
    "\n",
    "    ax = fig.add_subplot(gs[1])\n",
    "    plotf(d_eibv, j, i, \"EIBV: 1.9, IVR: 0.1\")\n",
    "    \n",
    "    ax = fig.add_subplot(gs[2])\n",
    "    plotf(d_ivr, j, i, \"EIBV: 0.1, IVR: 1.9\")\n",
    "        \n",
    "    plt.savefig(figpath + \"P_{:03d}.png\".format(i))\n",
    "    plt.close(\"all\")"
   ]
  },
  {
   "cell_type": "code",
   "execution_count": 2,
   "id": "ac1b266b",
   "metadata": {},
   "outputs": [],
   "source": [
    "pb = c.get_polygon_border()\n",
    "po = c.get_polygon_obstacle()"
   ]
  },
  {
   "cell_type": "code",
   "execution_count": 43,
   "id": "eef4ad79",
   "metadata": {},
   "outputs": [
    {
     "name": "stderr",
     "output_type": "stream",
     "text": [
      "100%|██████████████████████████████████████████████████████████████████████████████████████████████████████████████████████████████████████████████████████████| 50/50 [00:51<00:00,  1.03s/it]\n"
     ]
    }
   ],
   "source": [
    "s1 = np.load(filepath + \"eibv_ivr_1.90_0.10.npy\")\n",
    "s2 = np.load(filepath + \"eibv_ivr_0.10_1.90.npy\")\n",
    "s3 = np.load(filepath + \"eibv_ivr_1.00_1.00.npy\")\n",
    "\n",
    "def plotf(s, i): \n",
    "    plt.plot(pb[:, 1], pb[:, 0], 'r-.')\n",
    "    plt.plot(po[:, 1], po[:, 0], 'r-.')\n",
    "    for j in range(s.shape[0]):\n",
    "        plt.plot(s[j, :i, 1], s[j, :i, 0], 'k.-', alpha=.1)\n",
    "    plt.gca().set_aspect('equal')\n",
    "    plt.xlabel(\"East\")\n",
    "    plt.ylabel(\"North\")\n",
    "#     plt.title(\"Iteration: \" + str(i))\n",
    "\n",
    "for i in tqdm(range(s1.shape[1])):\n",
    "\n",
    "    fig = plt.figure(figsize=(30, 10))\n",
    "    gs = GridSpec(nrows=1, ncols=3)\n",
    "    ax = fig.add_subplot(gs[0])\n",
    "    plotf(s1, i)\n",
    "    ax.set_title(\"EIBV: {:.2f}, IVR: {:.2f}\".format(1.9, .1))\n",
    "\n",
    "    ax = fig.add_subplot(gs[1])\n",
    "    plotf(s2, i)\n",
    "    ax.set_title(\"EIBV: {:.2f}, IVR: {:.2f}\".format(.1, 1.9))\n",
    "\n",
    "    ax = fig.add_subplot(gs[2])\n",
    "    plotf(s3, i)\n",
    "    ax.set_title(\"EIBV: {:.2f}, IVR: {:.2f}\".format(1., 1.))\n",
    "\n",
    "    plt.savefig(figpath + \"P_{:03d}.png\".format(i))\n",
    "    plt.close(\"all\")\n",
    "#     plt.show()\n",
    "#     if i == 2: \n",
    "#         break"
   ]
  },
  {
   "cell_type": "code",
   "execution_count": 33,
   "id": "e4b35966",
   "metadata": {},
   "outputs": [
    {
     "data": {
      "text/plain": [
       "[]"
      ]
     },
     "execution_count": 33,
     "metadata": {},
     "output_type": "execute_result"
    },
    {
     "data": {
      "image/png": "[encoded data removed]",
      "text/plain": [
       "<Figure size 432x288 with 1 Axes>"
      ]
     },
     "metadata": {
      "needs_background": "light"
     },
     "output_type": "display_data"
    }
   ],
   "source": []
  },
  {
   "cell_type": "code",
   "execution_count": null,
   "id": "e7ab8e14",
   "metadata": {},
   "outputs": [],
   "source": []
  }
 ],
 "metadata": {
  "kernelspec": {
   "display_name": "Python 3 (ipykernel)",
   "language": "python",
   "name": "python3"
  },
  "language_info": {
   "codemirror_mode": {
    "name": "ipython",
    "version": 3
   },
   "file_extension": ".py",
   "mimetype": "text/x-python",
   "name": "python",
   "nbconvert_exporter": "python",
   "pygments_lexer": "ipython3",
   "version": "3.9.15"
  }
 },
 "nbformat": 4,
 "nbformat_minor": 5
}
