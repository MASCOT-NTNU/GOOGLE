{
 "cells": [
  {
   "cell_type": "markdown",
   "id": "f094b695",
   "metadata": {},
   "source": [
    "# Simulation result analysis"
   ]
  },
  {
   "cell_type": "code",
   "execution_count": 3,
   "id": "c8c481eb",
   "metadata": {},
   "outputs": [
    {
     "name": "stdout",
     "output_type": "stream",
     "text": [
      "[]\n",
      "['ivr.npy', 'README.md', 'EIBV.npy', 'equal.npy']\n"
     ]
    }
   ],
   "source": [
    "import numpy as np\n",
    "import matplotlib.pyplot as plt\n",
    "import os \n",
    "from Config import Config\n",
    "from tqdm import tqdm\n",
    "from matplotlib.gridspec import GridSpec\n",
    "\n",
    "plt.rcParams[\"font.family\"] = \"Times New Roman\"\n",
    "plt.rcParams[\"font.size\"] = 20\n",
    "\n",
    "filepath = \"./npy/\"\n",
    "c = Config()\n",
    "figpath = \"./../../fig/Sim_2DNidelva/Cases/\"\n",
    "print(os.listdir(figpath))\n",
    "print(os.listdir(filepath))\n"
   ]
  },
  {
   "cell_type": "code",
   "execution_count": 8,
   "id": "f245e4ce",
   "metadata": {},
   "outputs": [
    {
     "data": {
      "text/plain": [
       "array([[[ 1200.        , -1500.        ],\n",
       "        [ 1559.98427246, -1503.36505342],\n",
       "        [ 1919.96854491, -1506.73010685],\n",
       "        [ 1897.31488655, -1147.44357528],\n",
       "        [ 2078.01898368,  -836.08200206]],\n",
       "\n",
       "       [[ 1200.        , -1500.        ],\n",
       "        [ 1559.98427246, -1503.36505342],\n",
       "        [ 1919.96854491, -1506.73010685],\n",
       "        [ 2004.2581698 , -1156.73687957],\n",
       "        [ 1779.24259878,  -875.72443714]],\n",
       "\n",
       "       [[ 1200.        , -1500.        ],\n",
       "        [ 1559.98427246, -1503.36505342],\n",
       "        [ 1919.96854491, -1506.73010685],\n",
       "        [ 1952.94555945, -1148.2436824 ],\n",
       "        [ 1708.70784107,  -883.76695957]]])"
      ]
     },
     "execution_count": 8,
     "metadata": {},
     "output_type": "execute_result"
    }
   ],
   "source": [
    "data = np.load(filepath + \"equal.npy\")\n",
    "data"
   ]
  },
  {
   "cell_type": "code",
   "execution_count": 9,
   "id": "6d667a39",
   "metadata": {},
   "outputs": [
    {
     "data": {
      "text/plain": [
       "[[<matplotlib.lines.Line2D at 0x11b433e80>],\n",
       " [<matplotlib.lines.Line2D at 0x11b443190>],\n",
       " [<matplotlib.lines.Line2D at 0x11b443460>]]"
      ]
     },
     "execution_count": 9,
     "metadata": {},
     "output_type": "execute_result"
    },
    {
     "data": {
      "image/png": "[encoded data removed]",
      "text/plain": [
       "<Figure size 432x288 with 1 Axes>"
      ]
     },
     "metadata": {
      "needs_background": "light"
     },
     "output_type": "display_data"
    }
   ],
   "source": [
    "[plt.plot(data[i, :, 1], data[i, :, 0], 'k.-') for i in range(data.shape[0])]\n"
   ]
  },
  {
   "cell_type": "code",
   "execution_count": 2,
   "id": "ac1b266b",
   "metadata": {},
   "outputs": [],
   "source": [
    "pb = c.get_polygon_border()\n",
    "po = c.get_polygon_obstacle()"
   ]
  },
  {
   "cell_type": "code",
   "execution_count": 43,
   "id": "eef4ad79",
   "metadata": {},
   "outputs": [
    {
     "name": "stderr",
     "output_type": "stream",
     "text": [
      "100%|██████████████████████████████████████████████████████████████████████████████████████████████████████████████████████████████████████████████████████████| 50/50 [00:51<00:00,  1.03s/it]\n"
     ]
    }
   ],
   "source": [
    "s1 = np.load(filepath + \"eibv_ivr_1.90_0.10.npy\")\n",
    "s2 = np.load(filepath + \"eibv_ivr_0.10_1.90.npy\")\n",
    "s3 = np.load(filepath + \"eibv_ivr_1.00_1.00.npy\")\n",
    "\n",
    "def plotf(s, i): \n",
    "    plt.plot(pb[:, 1], pb[:, 0], 'r-.')\n",
    "    plt.plot(po[:, 1], po[:, 0], 'r-.')\n",
    "    for j in range(s.shape[0]):\n",
    "        plt.plot(s[j, :i, 1], s[j, :i, 0], 'k.-', alpha=.1)\n",
    "    plt.gca().set_aspect('equal')\n",
    "    plt.xlabel(\"East\")\n",
    "    plt.ylabel(\"North\")\n",
    "#     plt.title(\"Iteration: \" + str(i))\n",
    "\n",
    "for i in tqdm(range(s1.shape[1])):\n",
    "\n",
    "    fig = plt.figure(figsize=(30, 10))\n",
    "    gs = GridSpec(nrows=1, ncols=3)\n",
    "    ax = fig.add_subplot(gs[0])\n",
    "    plotf(s1, i)\n",
    "    ax.set_title(\"EIBV: {:.2f}, IVR: {:.2f}\".format(1.9, .1))\n",
    "\n",
    "    ax = fig.add_subplot(gs[1])\n",
    "    plotf(s2, i)\n",
    "    ax.set_title(\"EIBV: {:.2f}, IVR: {:.2f}\".format(.1, 1.9))\n",
    "\n",
    "    ax = fig.add_subplot(gs[2])\n",
    "    plotf(s3, i)\n",
    "    ax.set_title(\"EIBV: {:.2f}, IVR: {:.2f}\".format(1., 1.))\n",
    "\n",
    "    plt.savefig(figpath + \"P_{:03d}.png\".format(i))\n",
    "    plt.close(\"all\")\n",
    "#     plt.show()\n",
    "#     if i == 2: \n",
    "#         break"
   ]
  },
  {
   "cell_type": "code",
   "execution_count": 33,
   "id": "e4b35966",
   "metadata": {},
   "outputs": [
    {
     "data": {
      "text/plain": [
       "[]"
      ]
     },
     "execution_count": 33,
     "metadata": {},
     "output_type": "execute_result"
    },
    {
     "data": {
      "image/png": "[encoded data removed]",
      "text/plain": [
       "<Figure size 432x288 with 1 Axes>"
      ]
     },
     "metadata": {
      "needs_background": "light"
     },
     "output_type": "display_data"
    }
   ],
   "source": []
  },
  {
   "cell_type": "code",
   "execution_count": null,
   "id": "e7ab8e14",
   "metadata": {},
   "outputs": [],
   "source": []
  }
 ],
 "metadata": {
  "kernelspec": {
   "display_name": "GOOGLE",
   "language": "python",
   "name": "google"
  },
  "language_info": {
   "codemirror_mode": {
    "name": "ipython",
    "version": 3
   },
   "file_extension": ".py",
   "mimetype": "text/x-python",
   "name": "python",
   "nbconvert_exporter": "python",
   "pygments_lexer": "ipython3",
   "version": "3.9.13"
  }
 },
 "nbformat": 4,
 "nbformat_minor": 5
}
