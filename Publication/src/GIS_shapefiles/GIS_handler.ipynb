{
 "cells": [
  {
   "cell_type": "markdown",
   "id": "fcc6870e",
   "metadata": {},
   "source": [
    "# GIS handlers deal with the shapefile operations."
   ]
  },
  {
   "cell_type": "code",
   "execution_count": 1,
   "id": "f0fcf29e",
   "metadata": {},
   "outputs": [
    {
     "ename": "ImportError",
     "evalue": "dlopen(/Users/yaolin/opt/anaconda3/envs/GOOGLE/lib/python3.9/site-packages/fiona/ogrext.cpython-39-darwin.so, 0x0002): Library not loaded: @rpath/libLerc.4.dylib\n  Referenced from: <DD41CB8B-6708-39DD-A40B-E7AB249EE013> /Users/yaolin/opt/anaconda3/envs/GOOGLE/lib/libgdal.31.dylib\n  Reason: tried: '/Users/yaolin/opt/anaconda3/envs/GOOGLE/lib/libLerc.4.dylib' (no such file), '/Users/yaolin/opt/anaconda3/envs/GOOGLE/lib/python3.9/site-packages/fiona/../../../libLerc.4.dylib' (no such file), '/Users/yaolin/opt/anaconda3/envs/GOOGLE/lib/python3.9/site-packages/fiona/../../../libLerc.4.dylib' (no such file), '/Users/yaolin/opt/anaconda3/envs/GOOGLE/bin/../lib/libLerc.4.dylib' (no such file), '/Users/yaolin/opt/anaconda3/envs/GOOGLE/bin/../lib/libLerc.4.dylib' (no such file), '/System/Volumes/Preboot/Cryptexes/OS@rpath/libLerc.4.dylib' (no such file), '/Users/yaolin/opt/anaconda3/envs/GOOGLE/lib/libLerc.4.dylib' (no such file), '/Users/yaolin/opt/anaconda3/envs/GOOGLE/lib/python3.9/site-packages/fiona/../../../libLerc.4.dylib' (no such file), '/Users/yaolin/opt/anaconda3/envs/GOOGLE/lib/python3.9/site-packages/fiona/../../../libLerc.4.dylib' (no such file), '/Users/yaolin/opt/anaconda3/envs/GOOGLE/bin/../lib/libLerc.4.dylib' (no such file), '/Users/yaolin/opt/anaconda3/envs/GOOGLE/bin/../lib/libLerc.4.dylib' (no such file), '/usr/local/lib/libLerc.4.dylib' (no such file), '/usr/lib/libLerc.4.dylib' (no such file, not in dyld cache)",
     "output_type": "error",
     "traceback": [
      "\u001b[0;31m---------------------------------------------------------------------------\u001b[0m",
      "\u001b[0;31mImportError\u001b[0m                               Traceback (most recent call last)",
      "Cell \u001b[0;32mIn [1], line 2\u001b[0m\n\u001b[1;32m      1\u001b[0m \u001b[38;5;28;01mimport\u001b[39;00m \u001b[38;5;21;01mgeopandas\u001b[39;00m\n\u001b[0;32m----> 2\u001b[0m \u001b[38;5;28;01mimport\u001b[39;00m \u001b[38;5;21;01mfiona\u001b[39;00m\n\u001b[1;32m      3\u001b[0m \u001b[38;5;28;01mfrom\u001b[39;00m \u001b[38;5;21;01mshapely\u001b[39;00m\u001b[38;5;21;01m.\u001b[39;00m\u001b[38;5;21;01mgeometry\u001b[39;00m \u001b[38;5;28;01mimport\u001b[39;00m Polygon\n\u001b[1;32m      4\u001b[0m \u001b[38;5;28;01mimport\u001b[39;00m \u001b[38;5;21;01mos\u001b[39;00m\n",
      "File \u001b[0;32m~/opt/anaconda3/envs/GOOGLE/lib/python3.9/site-packages/fiona/__init__.py:86\u001b[0m\n\u001b[1;32m     84\u001b[0m \u001b[38;5;28;01mimport\u001b[39;00m \u001b[38;5;21;01mfiona\u001b[39;00m\u001b[38;5;21;01m.\u001b[39;00m\u001b[38;5;21;01m_loading\u001b[39;00m\n\u001b[1;32m     85\u001b[0m \u001b[38;5;28;01mwith\u001b[39;00m fiona\u001b[38;5;241m.\u001b[39m_loading\u001b[38;5;241m.\u001b[39madd_gdal_dll_directories():\n\u001b[0;32m---> 86\u001b[0m     \u001b[38;5;28;01mfrom\u001b[39;00m \u001b[38;5;21;01mfiona\u001b[39;00m\u001b[38;5;21;01m.\u001b[39;00m\u001b[38;5;21;01mcollection\u001b[39;00m \u001b[38;5;28;01mimport\u001b[39;00m BytesCollection, Collection\n\u001b[1;32m     87\u001b[0m     \u001b[38;5;28;01mfrom\u001b[39;00m \u001b[38;5;21;01mfiona\u001b[39;00m\u001b[38;5;21;01m.\u001b[39;00m\u001b[38;5;21;01mdrvsupport\u001b[39;00m \u001b[38;5;28;01mimport\u001b[39;00m supported_drivers\n\u001b[1;32m     88\u001b[0m     \u001b[38;5;28;01mfrom\u001b[39;00m \u001b[38;5;21;01mfiona\u001b[39;00m\u001b[38;5;21;01m.\u001b[39;00m\u001b[38;5;21;01menv\u001b[39;00m \u001b[38;5;28;01mimport\u001b[39;00m ensure_env_with_credentials, Env\n",
      "File \u001b[0;32m~/opt/anaconda3/envs/GOOGLE/lib/python3.9/site-packages/fiona/collection.py:11\u001b[0m\n\u001b[1;32m      9\u001b[0m \u001b[38;5;28;01mwith\u001b[39;00m fiona\u001b[38;5;241m.\u001b[39m_loading\u001b[38;5;241m.\u001b[39madd_gdal_dll_directories():\n\u001b[1;32m     10\u001b[0m     \u001b[38;5;28;01mfrom\u001b[39;00m \u001b[38;5;21;01mfiona\u001b[39;00m \u001b[38;5;28;01mimport\u001b[39;00m compat, vfs\n\u001b[0;32m---> 11\u001b[0m     \u001b[38;5;28;01mfrom\u001b[39;00m \u001b[38;5;21;01mfiona\u001b[39;00m\u001b[38;5;21;01m.\u001b[39;00m\u001b[38;5;21;01mogrext\u001b[39;00m \u001b[38;5;28;01mimport\u001b[39;00m Iterator, ItemsIterator, KeysIterator\n\u001b[1;32m     12\u001b[0m     \u001b[38;5;28;01mfrom\u001b[39;00m \u001b[38;5;21;01mfiona\u001b[39;00m\u001b[38;5;21;01m.\u001b[39;00m\u001b[38;5;21;01mogrext\u001b[39;00m \u001b[38;5;28;01mimport\u001b[39;00m Session, WritingSession\n\u001b[1;32m     13\u001b[0m     \u001b[38;5;28;01mfrom\u001b[39;00m \u001b[38;5;21;01mfiona\u001b[39;00m\u001b[38;5;21;01m.\u001b[39;00m\u001b[38;5;21;01mogrext\u001b[39;00m \u001b[38;5;28;01mimport\u001b[39;00m buffer_to_virtual_file, remove_virtual_file, GEOMETRY_TYPES\n",
      "\u001b[0;31mImportError\u001b[0m: dlopen(/Users/yaolin/opt/anaconda3/envs/GOOGLE/lib/python3.9/site-packages/fiona/ogrext.cpython-39-darwin.so, 0x0002): Library not loaded: @rpath/libLerc.4.dylib\n  Referenced from: <DD41CB8B-6708-39DD-A40B-E7AB249EE013> /Users/yaolin/opt/anaconda3/envs/GOOGLE/lib/libgdal.31.dylib\n  Reason: tried: '/Users/yaolin/opt/anaconda3/envs/GOOGLE/lib/libLerc.4.dylib' (no such file), '/Users/yaolin/opt/anaconda3/envs/GOOGLE/lib/python3.9/site-packages/fiona/../../../libLerc.4.dylib' (no such file), '/Users/yaolin/opt/anaconda3/envs/GOOGLE/lib/python3.9/site-packages/fiona/../../../libLerc.4.dylib' (no such file), '/Users/yaolin/opt/anaconda3/envs/GOOGLE/bin/../lib/libLerc.4.dylib' (no such file), '/Users/yaolin/opt/anaconda3/envs/GOOGLE/bin/../lib/libLerc.4.dylib' (no such file), '/System/Volumes/Preboot/Cryptexes/OS@rpath/libLerc.4.dylib' (no such file), '/Users/yaolin/opt/anaconda3/envs/GOOGLE/lib/libLerc.4.dylib' (no such file), '/Users/yaolin/opt/anaconda3/envs/GOOGLE/lib/python3.9/site-packages/fiona/../../../libLerc.4.dylib' (no such file), '/Users/yaolin/opt/anaconda3/envs/GOOGLE/lib/python3.9/site-packages/fiona/../../../libLerc.4.dylib' (no such file), '/Users/yaolin/opt/anaconda3/envs/GOOGLE/bin/../lib/libLerc.4.dylib' (no such file), '/Users/yaolin/opt/anaconda3/envs/GOOGLE/bin/../lib/libLerc.4.dylib' (no such file), '/usr/local/lib/libLerc.4.dylib' (no such file), '/usr/lib/libLerc.4.dylib' (no such file, not in dyld cache)"
     ]
    }
   ],
   "source": []
  },
  {
   "cell_type": "code",
   "execution_count": 10,
   "id": "038f16f9",
   "metadata": {},
   "outputs": [
    {
     "ename": "ImportError",
     "evalue": "The 'read_file' function requires the 'pyogrio' or 'fiona' package, but neither is installed or imports correctly.\nImporting fiona resulted in: dlopen(/Users/yaolin/opt/anaconda3/envs/GOOGLE/lib/python3.9/site-packages/fiona/ogrext.cpython-39-darwin.so, 0x0002): Library not loaded: @rpath/libLerc.4.dylib\n  Referenced from: <DD41CB8B-6708-39DD-A40B-E7AB249EE013> /Users/yaolin/opt/anaconda3/envs/GOOGLE/lib/libgdal.31.dylib\n  Reason: tried: '/Users/yaolin/opt/anaconda3/envs/GOOGLE/lib/libLerc.4.dylib' (no such file), '/Users/yaolin/opt/anaconda3/envs/GOOGLE/lib/python3.9/site-packages/fiona/../../../libLerc.4.dylib' (no such file), '/Users/yaolin/opt/anaconda3/envs/GOOGLE/lib/python3.9/site-packages/fiona/../../../libLerc.4.dylib' (no such file), '/Users/yaolin/opt/anaconda3/envs/GOOGLE/bin/../lib/libLerc.4.dylib' (no such file), '/Users/yaolin/opt/anaconda3/envs/GOOGLE/bin/../lib/libLerc.4.dylib' (no such file), '/System/Volumes/Preboot/Cryptexes/OS@rpath/libLerc.4.dylib' (no such file), '/Users/yaolin/opt/anaconda3/envs/GOOGLE/lib/libLerc.4.dylib' (no such file), '/Users/yaolin/opt/anaconda3/envs/GOOGLE/lib/python3.9/site-packages/fiona/../../../libLerc.4.dylib' (no such file), '/Users/yaolin/opt/anaconda3/envs/GOOGLE/lib/python3.9/site-packages/fiona/../../../libLerc.4.dylib' (no such file), '/Users/yaolin/opt/anaconda3/envs/GOOGLE/bin/../lib/libLerc.4.dylib' (no such file), '/Users/yaolin/opt/anaconda3/envs/GOOGLE/bin/../lib/libLerc.4.dylib' (no such file), '/usr/local/lib/libLerc.4.dylib' (no such file), '/usr/lib/libLerc.4.dylib' (no such file, not in dyld cache)\nImporting pyogrio resulted in: dlopen(/Users/yaolin/opt/anaconda3/envs/GOOGLE/lib/python3.9/site-packages/pyogrio/_ogr.cpython-39-darwin.so, 0x0002): Library not loaded: @rpath/libLerc.4.dylib\n  Referenced from: <DD41CB8B-6708-39DD-A40B-E7AB249EE013> /Users/yaolin/opt/anaconda3/envs/GOOGLE/lib/libgdal.31.dylib\n  Reason: tried: '/Users/yaolin/opt/anaconda3/envs/GOOGLE/lib/libLerc.4.dylib' (no such file), '/Users/yaolin/opt/anaconda3/envs/GOOGLE/lib/python3.9/site-packages/pyogrio/../../../libLerc.4.dylib' (no such file), '/Users/yaolin/opt/anaconda3/envs/GOOGLE/lib/python3.9/site-packages/pyogrio/../../../libLerc.4.dylib' (no such file), '/Users/yaolin/opt/anaconda3/envs/GOOGLE/bin/../lib/libLerc.4.dylib' (no such file), '/Users/yaolin/opt/anaconda3/envs/GOOGLE/bin/../lib/libLerc.4.dylib' (no such file), '/System/Volumes/Preboot/Cryptexes/OS@rpath/libLerc.4.dylib' (no such file), '/Users/yaolin/opt/anaconda3/envs/GOOGLE/lib/libLerc.4.dylib' (no such file), '/Users/yaolin/opt/anaconda3/envs/GOOGLE/lib/python3.9/site-packages/pyogrio/../../../libLerc.4.dylib' (no such file), '/Users/yaolin/opt/anaconda3/envs/GOOGLE/lib/python3.9/site-packages/pyogrio/../../../libLerc.4.dylib' (no such file), '/Users/yaolin/opt/anaconda3/envs/GOOGLE/bin/../lib/libLerc.4.dylib' (no such file), '/Users/yaolin/opt/anaconda3/envs/GOOGLE/bin/../lib/libLerc.4.dylib' (no such file), '/usr/local/lib/libLerc.4.dylib' (no such file), '/usr/lib/libLerc.4.dylib' (no such file, not in dyld cache)",
     "output_type": "error",
     "traceback": [
      "\u001b[0;31m---------------------------------------------------------------------------\u001b[0m",
      "\u001b[0;31mImportError\u001b[0m                               Traceback (most recent call last)",
      "Cell \u001b[0;32mIn [10], line 2\u001b[0m\n\u001b[1;32m      1\u001b[0m \u001b[38;5;124;03m\"\"\" Get Trondheimsfjord polygon. \"\"\"\u001b[39;00m\n\u001b[0;32m----> 2\u001b[0m munkholmen_shape_file \u001b[38;5;241m=\u001b[39m \u001b[43mgeopandas\u001b[49m\u001b[38;5;241;43m.\u001b[39;49m\u001b[43mread_file\u001b[49m\u001b[43m(\u001b[49m\u001b[38;5;124;43m\"\u001b[39;49m\u001b[38;5;124;43mMunkholmen.shp\u001b[39;49m\u001b[38;5;124;43m\"\u001b[39;49m\u001b[43m)\u001b[49m\n",
      "File \u001b[0;32m~/opt/anaconda3/envs/GOOGLE/lib/python3.9/site-packages/geopandas/io/file.py:242\u001b[0m, in \u001b[0;36m_read_file\u001b[0;34m(filename, bbox, mask, rows, engine, **kwargs)\u001b[0m\n\u001b[1;32m    172\u001b[0m \u001b[38;5;28;01mdef\u001b[39;00m \u001b[38;5;21m_read_file\u001b[39m(filename, bbox\u001b[38;5;241m=\u001b[39m\u001b[38;5;28;01mNone\u001b[39;00m, mask\u001b[38;5;241m=\u001b[39m\u001b[38;5;28;01mNone\u001b[39;00m, rows\u001b[38;5;241m=\u001b[39m\u001b[38;5;28;01mNone\u001b[39;00m, engine\u001b[38;5;241m=\u001b[39m\u001b[38;5;28;01mNone\u001b[39;00m, \u001b[38;5;241m*\u001b[39m\u001b[38;5;241m*\u001b[39mkwargs):\n\u001b[1;32m    173\u001b[0m     \u001b[38;5;124;03m\"\"\"\u001b[39;00m\n\u001b[1;32m    174\u001b[0m \u001b[38;5;124;03m    Returns a GeoDataFrame from a file or URL.\u001b[39;00m\n\u001b[1;32m    175\u001b[0m \n\u001b[0;32m   (...)\u001b[0m\n\u001b[1;32m    240\u001b[0m \u001b[38;5;124;03m    by using the encoding keyword parameter, e.g. ``encoding='utf-8'``.\u001b[39;00m\n\u001b[1;32m    241\u001b[0m \u001b[38;5;124;03m    \"\"\"\u001b[39;00m\n\u001b[0;32m--> 242\u001b[0m     engine \u001b[38;5;241m=\u001b[39m \u001b[43m_check_engine\u001b[49m\u001b[43m(\u001b[49m\u001b[43mengine\u001b[49m\u001b[43m,\u001b[49m\u001b[43m \u001b[49m\u001b[38;5;124;43m\"\u001b[39;49m\u001b[38;5;124;43m'\u001b[39;49m\u001b[38;5;124;43mread_file\u001b[39;49m\u001b[38;5;124;43m'\u001b[39;49m\u001b[38;5;124;43m function\u001b[39;49m\u001b[38;5;124;43m\"\u001b[39;49m\u001b[43m)\u001b[49m\n\u001b[1;32m    244\u001b[0m     filename \u001b[38;5;241m=\u001b[39m _expand_user(filename)\n\u001b[1;32m    246\u001b[0m     from_bytes \u001b[38;5;241m=\u001b[39m \u001b[38;5;28;01mFalse\u001b[39;00m\n",
      "File \u001b[0;32m~/opt/anaconda3/envs/GOOGLE/lib/python3.9/site-packages/geopandas/io/file.py:112\u001b[0m, in \u001b[0;36m_check_engine\u001b[0;34m(engine, func)\u001b[0m\n\u001b[1;32m    110\u001b[0m     _check_pyogrio(func)\n\u001b[1;32m    111\u001b[0m \u001b[38;5;28;01melif\u001b[39;00m engine \u001b[38;5;129;01mis\u001b[39;00m \u001b[38;5;28;01mNone\u001b[39;00m:\n\u001b[0;32m--> 112\u001b[0m     \u001b[38;5;28;01mraise\u001b[39;00m \u001b[38;5;167;01mImportError\u001b[39;00m(\n\u001b[1;32m    113\u001b[0m         \u001b[38;5;124mf\u001b[39m\u001b[38;5;124m\"\u001b[39m\u001b[38;5;124mThe \u001b[39m\u001b[38;5;132;01m{\u001b[39;00mfunc\u001b[38;5;132;01m}\u001b[39;00m\u001b[38;5;124m requires the \u001b[39m\u001b[38;5;124m'\u001b[39m\u001b[38;5;124mpyogrio\u001b[39m\u001b[38;5;124m'\u001b[39m\u001b[38;5;124m or \u001b[39m\u001b[38;5;124m'\u001b[39m\u001b[38;5;124mfiona\u001b[39m\u001b[38;5;124m'\u001b[39m\u001b[38;5;124m package, \u001b[39m\u001b[38;5;124m\"\u001b[39m\n\u001b[1;32m    114\u001b[0m         \u001b[38;5;124m\"\u001b[39m\u001b[38;5;124mbut neither is installed or imports correctly.\u001b[39m\u001b[38;5;124m\"\u001b[39m\n\u001b[1;32m    115\u001b[0m         \u001b[38;5;124mf\u001b[39m\u001b[38;5;124m\"\u001b[39m\u001b[38;5;130;01m\\n\u001b[39;00m\u001b[38;5;124mImporting fiona resulted in: \u001b[39m\u001b[38;5;132;01m{\u001b[39;00mfiona_import_error\u001b[38;5;132;01m}\u001b[39;00m\u001b[38;5;124m\"\u001b[39m\n\u001b[1;32m    116\u001b[0m         \u001b[38;5;124mf\u001b[39m\u001b[38;5;124m\"\u001b[39m\u001b[38;5;130;01m\\n\u001b[39;00m\u001b[38;5;124mImporting pyogrio resulted in: \u001b[39m\u001b[38;5;132;01m{\u001b[39;00mpyogrio_import_error\u001b[38;5;132;01m}\u001b[39;00m\u001b[38;5;124m\"\u001b[39m\n\u001b[1;32m    117\u001b[0m     )\n\u001b[1;32m    119\u001b[0m \u001b[38;5;28;01mreturn\u001b[39;00m engine\n",
      "\u001b[0;31mImportError\u001b[0m: The 'read_file' function requires the 'pyogrio' or 'fiona' package, but neither is installed or imports correctly.\nImporting fiona resulted in: dlopen(/Users/yaolin/opt/anaconda3/envs/GOOGLE/lib/python3.9/site-packages/fiona/ogrext.cpython-39-darwin.so, 0x0002): Library not loaded: @rpath/libLerc.4.dylib\n  Referenced from: <DD41CB8B-6708-39DD-A40B-E7AB249EE013> /Users/yaolin/opt/anaconda3/envs/GOOGLE/lib/libgdal.31.dylib\n  Reason: tried: '/Users/yaolin/opt/anaconda3/envs/GOOGLE/lib/libLerc.4.dylib' (no such file), '/Users/yaolin/opt/anaconda3/envs/GOOGLE/lib/python3.9/site-packages/fiona/../../../libLerc.4.dylib' (no such file), '/Users/yaolin/opt/anaconda3/envs/GOOGLE/lib/python3.9/site-packages/fiona/../../../libLerc.4.dylib' (no such file), '/Users/yaolin/opt/anaconda3/envs/GOOGLE/bin/../lib/libLerc.4.dylib' (no such file), '/Users/yaolin/opt/anaconda3/envs/GOOGLE/bin/../lib/libLerc.4.dylib' (no such file), '/System/Volumes/Preboot/Cryptexes/OS@rpath/libLerc.4.dylib' (no such file), '/Users/yaolin/opt/anaconda3/envs/GOOGLE/lib/libLerc.4.dylib' (no such file), '/Users/yaolin/opt/anaconda3/envs/GOOGLE/lib/python3.9/site-packages/fiona/../../../libLerc.4.dylib' (no such file), '/Users/yaolin/opt/anaconda3/envs/GOOGLE/lib/python3.9/site-packages/fiona/../../../libLerc.4.dylib' (no such file), '/Users/yaolin/opt/anaconda3/envs/GOOGLE/bin/../lib/libLerc.4.dylib' (no such file), '/Users/yaolin/opt/anaconda3/envs/GOOGLE/bin/../lib/libLerc.4.dylib' (no such file), '/usr/local/lib/libLerc.4.dylib' (no such file), '/usr/lib/libLerc.4.dylib' (no such file, not in dyld cache)\nImporting pyogrio resulted in: dlopen(/Users/yaolin/opt/anaconda3/envs/GOOGLE/lib/python3.9/site-packages/pyogrio/_ogr.cpython-39-darwin.so, 0x0002): Library not loaded: @rpath/libLerc.4.dylib\n  Referenced from: <DD41CB8B-6708-39DD-A40B-E7AB249EE013> /Users/yaolin/opt/anaconda3/envs/GOOGLE/lib/libgdal.31.dylib\n  Reason: tried: '/Users/yaolin/opt/anaconda3/envs/GOOGLE/lib/libLerc.4.dylib' (no such file), '/Users/yaolin/opt/anaconda3/envs/GOOGLE/lib/python3.9/site-packages/pyogrio/../../../libLerc.4.dylib' (no such file), '/Users/yaolin/opt/anaconda3/envs/GOOGLE/lib/python3.9/site-packages/pyogrio/../../../libLerc.4.dylib' (no such file), '/Users/yaolin/opt/anaconda3/envs/GOOGLE/bin/../lib/libLerc.4.dylib' (no such file), '/Users/yaolin/opt/anaconda3/envs/GOOGLE/bin/../lib/libLerc.4.dylib' (no such file), '/System/Volumes/Preboot/Cryptexes/OS@rpath/libLerc.4.dylib' (no such file), '/Users/yaolin/opt/anaconda3/envs/GOOGLE/lib/libLerc.4.dylib' (no such file), '/Users/yaolin/opt/anaconda3/envs/GOOGLE/lib/python3.9/site-packages/pyogrio/../../../libLerc.4.dylib' (no such file), '/Users/yaolin/opt/anaconda3/envs/GOOGLE/lib/python3.9/site-packages/pyogrio/../../../libLerc.4.dylib' (no such file), '/Users/yaolin/opt/anaconda3/envs/GOOGLE/bin/../lib/libLerc.4.dylib' (no such file), '/Users/yaolin/opt/anaconda3/envs/GOOGLE/bin/../lib/libLerc.4.dylib' (no such file), '/usr/local/lib/libLerc.4.dylib' (no such file), '/usr/lib/libLerc.4.dylib' (no such file, not in dyld cache)"
     ]
    }
   ],
   "source": [
    "\"\"\" Get Trondheimsfjord polygon. \"\"\"\n",
    "munkholmen_shape_file = geopandas.read_file(\"Munkholmen.shp\")\n",
    "# Trondheimsfjord = munkholmen_shape_file[munkholmen_shape_file['name'] == \"Trondheimsfjorden\"]['geometry']\n",
    "# polygon_path_trondheimsfjorden = Trondheimsfjord.to_numpy()[0][0]\n",
    "# lon_fjord = vectorise(polygon_path_trondheimsfjorden.exterior.xy[0])\n",
    "# lat_fjord = vectorise(polygon_path_trondheimsfjorden.exterior.xy[1])\n",
    "# polygon_fjord = np.hstack((lat_fjord, lon_fjord))\n",
    "# polygon_fjord_buffered = get_buffered_polygon(polygon_fjord, BUFFER_SIZE_BORDER,\n",
    "#                                                         which_polygon=1, plot=False)"
   ]
  },
  {
   "cell_type": "code",
   "execution_count": null,
   "id": "0df05549",
   "metadata": {},
   "outputs": [],
   "source": [
    "\n",
    "def get_buffered_polygon(polygon, buffer_size, which_polygon=1, plot=True):\n",
    "x, y = latlon2xy(polygon[:, 0], polygon[:, 1], 0, 0)\n",
    "polygon_xy = np.hstack((vectorise(x), vectorise(y)))\n",
    "polygon_xy_shapely = Polygon(polygon_xy)\n",
    "polygon_xy_shapely_buffered = polygon_xy_shapely.buffer(buffer_size)\n",
    "if type(polygon_xy_shapely_buffered) == shapely.geometry.polygon.Polygon:\n",
    "    x_buffer, y_buffer = polygon_xy_shapely_buffered.exterior.xy\n",
    "\n",
    "    # == shorten polygons using Ramer-Douglas-Peucker Algorithm\n",
    "    # polygon_xy_buffer = np.hstack((vectorise(x_buffer), vectorise(y_buffer)))\n",
    "    # polygon_xy_buffer_shorten = rdp(polygon_xy_buffer, epsilon=epsilon)\n",
    "    # lat_wgs_shorten, lon_wgs_shorten = xy2latlon(polygon_xy_buffer_shorten[:, 0],\n",
    "    #                                              polygon_xy_buffer_shorten[:, 1],\n",
    "    #                                              0, 0)\n",
    "    lat_wgs, lon_wgs = xy2latlon(vectorise(x_buffer), vectorise(y_buffer), 0, 0)\n",
    "    polygon_wgs_buffer_shorten = np.hstack((vectorise(lat_wgs), vectorise(lon_wgs)))\n",
    "    if plot:\n",
    "        plt.plot(lon_wgs, lat_wgs, 'k.-')\n",
    "        plt.plot(polygon[:, 1], polygon[:, 0], 'r.-')\n",
    "        plt.show()\n",
    "    return polygon_wgs_buffer_shorten\n",
    "else:\n",
    "    for i in range(len(polygon_xy_shapely_buffered)):\n",
    "        x_buffer, y_buffer = polygon_xy_shapely_buffered[i].exterior.xy\n",
    "\n",
    "        # == shorten polygons using Ramer-Douglas-Peucker Algorithm\n",
    "        # polygon_xy_buffer = np.hstack((vectorise(x_buffer), vectorise(y_buffer)))\n",
    "        # polygon_xy_buffer_shorten = rdp(polygon_xy_buffer, epsilon=epsilon)\n",
    "        # lat_wgs_shorten, lon_wgs_shorten = xy2latlon(polygon_xy_buffer_shorten[:, 0],\n",
    "        #                                              polygon_xy_buffer_shorten[:, 1],\n",
    "        #                                              0, 0)\n",
    "        lat_wgs, lon_wgs = xy2latlon(vectorise(x_buffer), vectorise(y_buffer), 0, 0)\n",
    "        polygon_wgs_buffer_shorten = np.hstack((vectorise(lat_wgs), vectorise(lon_wgs)))\n",
    "        if plot:\n",
    "            plt.plot(lon_wgs, lat_wgs, 'k.-')\n",
    "            plt.plot(polygon[:, 1], polygon[:, 0], 'r.-')\n",
    "            plt.show()\n",
    "        if i == which_polygon:\n",
    "            return polygon_wgs_buffer_shorten"
   ]
  },
  {
   "cell_type": "code",
   "execution_count": null,
   "id": "8cab5f9f",
   "metadata": {},
   "outputs": [],
   "source": [
    "# boundary_shape_file = np.fliplr(pd.read_csv(BOUNDARY_SHAPE_FILE)) # swap x & y\n",
    "# polygon_path_boundary = Polygon(boundary_shape_file)\n",
    "# plt.plot(polygon_fjord[:, 1], polygon_fjord[:, 0], 'k-')\n",
    "# plt.plot(polygon_fjord_buffered[:, 1], polygon_fjord_buffered[:, 0], 'b-')\n",
    "# plt.show()\n",
    "\n",
    "# get munkholmen obstacle polygon\n",
    "# Munkholmen = munkholmen_shape_file[munkholmen_shape_file['name'] == \"Munkholmen\"]['geometry']\n",
    "# polygon_path_munkholmen = Munkholmen.to_numpy()[0]\n",
    "# lon_munkholmen = vectorise(polygon_path_munkholmen.exterior.xy[0])\n",
    "# lat_munkholmen = vectorise(polygon_path_munkholmen.exterior.xy[1])\n",
    "# polygon_munkholmen = np.hstack((lat_munkholmen, lon_munkholmen))\n",
    "\n",
    "\n",
    "intersection = []\n",
    "intersection.append(get_intersected_polygons(Polygon(np.fliplr(polygon_fjord_buffered)),\n",
    "                                                       polygon_path_boundary))\n",
    "# # intersection.append(get_intersected_polygons(polygon_path_trondheimsfjorden,\n",
    "# #                                                        polygon_path_munkholmen))\n",
    "\n",
    "operational_regions = GeometryCollection(intersection)\n",
    "operational_areas = operational_regions.geoms\n",
    "lon_operational_area = vectorise(operational_areas[0].exterior.xy[0])\n",
    "lat_operational_area = vectorise(operational_areas[0].exterior.xy[1])\n",
    "polygon_operational_area = np.hstack((lat_operational_area, lon_operational_area))\n",
    "\n",
    "fig = plt.figure(figsize=(10, 10))\n",
    "plt.plot(lon_operational_area, lat_operational_area, 'k-.', linewidth=2)\n",
    "plt.plot(boundary_shape_file[:, 0], boundary_shape_file[:, 1], 'r-')\n",
    "plt.show()\n",
    "\n",
    "df = pd.DataFrame(polygon_operational_area, columns=['lat', 'lon'])\n",
    "df.to_csv(FILEPATH+\"Simulation/PreConfig/polygon_border.csv\", index=False)"
   ]
  },
  {
   "cell_type": "code",
   "execution_count": null,
   "id": "bf40ce05",
   "metadata": {},
   "outputs": [],
   "source": [
    "\n",
    "\n",
    "\n",
    "\n",
    "'''\n",
    "Path\n",
    "'''\n",
    "PATH_SHAPE_FILE = FILEPATH + \"GIS/Munkholmen.shp\" # remember to copy all the\n",
    "# other files in as well\n",
    "BOUNDARY_SHAPE_FILE = FILEPATH + \"GIS/boundary.csv\"\n",
    "\n",
    "PATH_OPERATION_AREA = FILEPATH + \"Simulation/Config/OperationalArea.csv\"\n",
    "# PATH_MUNKHOLMEN = FILEPATH + \"Munkholmen.csv\"\n",
    "\n",
    "''' Note!!!\n",
    "Sometimes the geometry will have multiple polygons due to merging of different parts as the result of the buffer size\n",
    "Be careful with the check conditions\n",
    "'''\n",
    "\n",
    "boundary = np.load(FILEPATH+\"models/grid.npy\")\n",
    "boundary[[2, -1]] = boundary[[-1, 2]]\n",
    "\n",
    "df = pd.DataFrame(boundary[:, 2:], columns=['lat', 'lon'])\n",
    "df.to_csv(FILEPATH+\"GIS/boundary.csv\", index=False)\n",
    "\n",
    "\n",
    "\n",
    "if __name__ == \"__main__\":\n",
    "    op = OpArea()\n",
    "\n"
   ]
  }
 ],
 "metadata": {
  "kernelspec": {
   "display_name": "GOOGLE",
   "language": "python",
   "name": "google"
  },
  "language_info": {
   "codemirror_mode": {
    "name": "ipython",
    "version": 3
   },
   "file_extension": ".py",
   "mimetype": "text/x-python",
   "name": "python",
   "nbconvert_exporter": "python",
   "pygments_lexer": "ipython3",
   "version": "3.9.15"
  }
 },
 "nbformat": 4,
 "nbformat_minor": 5
}
