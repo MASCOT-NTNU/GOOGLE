{
 "cells": [
  {
   "cell_type": "markdown",
   "metadata": {},
   "source": [
    "# This script is used to pre-generate the ground truth field for a specific day\n",
    "\n",
    "Author: Yaolin Ge\n",
    "Email: geyaolin@gmail.com\n",
    "Date: 2023-08-28\n",
    "\n"
   ]
  },
  {
   "cell_type": "code",
   "execution_count": null,
   "metadata": {},
   "outputs": [],
   "source": [
    "from src.WGS import WGS\n",
    "import os\n",
    "import netCDF4\n",
    "import numpy as np\n",
    "import pandas as pd\n",
    "from shapely.geometry import Polygon, Point\n",
    "\n",
    "filepath = \"/Users/yaolin/OneDrive - NTNU/MASCOT_PhD/Data/Nidelva/SINMOD_DATA/samples/samples_2022.05.11.nc\"\n",
    "path_border = \"src/csv/polygon_border.csv\"\n",
    "path_obstacle = \"src/csv/polygon_obstacle.csv\"\n",
    "\n",
    "sinmod = netCDF4.Dataset(filepath)\n",
    "plg_border = pd.read_csv(path_border).to_numpy()\n",
    "plg_obstacle = pd.read_csv(path_obstacle).to_numpy()\n",
    "plg_b_sh = Polygon(plg_border)\n",
    "plg_o_sh = Polygon(plg_obstacle)\n",
    "\n",
    "timestamp = sinmod['time']\n",
    "lat = np.array(sinmod['gridLats'])\n",
    "lon = np.array(sinmod['gridLons'])\n",
    "depth = np.array(sinmod['depth'])\n",
    "salinity = np.array(sinmod['salinity'])\n",
    "\n",
    "sal = np.nanmean(salinity[:, 0, :, :], axis=0)\n",
    "lat = lat.flatten()\n",
    "lon = lon.flatten()\n",
    "sal = sal.flatten()"
   ]
  }
 ],
 "metadata": {
  "language_info": {
   "name": "python"
  },
  "orig_nbformat": 4
 },
 "nbformat": 4,
 "nbformat_minor": 2
}
