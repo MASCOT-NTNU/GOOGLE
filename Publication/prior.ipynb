{
 "cells": [
  {
   "cell_type": "markdown",
   "id": "822d11d3",
   "metadata": {
    "pycharm": {
     "name": "#%% md\n"
    }
   },
   "source": [
    "# This script prepares prior for the coming simulation study or EDA analysis. "
   ]
  },
  {
   "cell_type": "markdown",
   "id": "5d60d4f0",
   "metadata": {
    "pycharm": {
     "name": "#%% md\n"
    }
   },
   "source": [
    "### Stage I: interpolate data for the area inside the operational area using SINMOD. "
   ]
  },
  {
   "cell_type": "code",
   "execution_count": 1,
   "id": "567fb665",
   "metadata": {
    "pycharm": {
     "name": "#%%\n"
    }
   },
   "outputs": [],
   "source": [
    "from src.WGS import WGS\n",
    "import os\n",
    "import netCDF4\n",
    "import numpy as np\n",
    "import pandas as pd\n",
    "from shapely.geometry import Polygon, Point\n",
    "\n",
    "filepath = \"/Users/yaolin/OneDrive - NTNU/MASCOT_PhD/Data/Nidelva/SINMOD_DATA/samples/samples_2022.05.11.nc\"\n",
    "path_border = \"src/csv/polygon_border.csv\"\n",
    "path_obstacle = \"src/csv/polygon_obstacle.csv\"\n",
    "\n",
    "sinmod = netCDF4.Dataset(filepath)\n",
    "plg_border = pd.read_csv(path_border).to_numpy()\n",
    "plg_obstacle = pd.read_csv(path_obstacle).to_numpy()\n",
    "plg_b_sh = Polygon(plg_border)\n",
    "plg_o_sh = Polygon(plg_obstacle)\n",
    "\n",
    "timestamp = sinmod['time']\n",
    "lat = np.array(sinmod['gridLats'])\n",
    "lon = np.array(sinmod['gridLons'])\n",
    "depth = np.array(sinmod['depth'])\n",
    "salinity = np.array(sinmod['salinity'])\n",
    "\n",
    "sal = np.nanmean(salinity[:, 0, :, :], axis=0)\n",
    "lat = lat.flatten()\n",
    "lon = lon.flatten()\n",
    "sal = sal.flatten()"
   ]
  },
  {
   "cell_type": "code",
   "execution_count": null,
   "id": "20d63a4c",
   "metadata": {
    "pycharm": {
     "name": "#%%\n"
    }
   },
   "outputs": [],
   "source": [
    "import matplotlib.pyplot as plt\n",
    "from matplotlib.cm import get_cmap\n",
    "plt.scatter(lon, lat, c=sal, cmap=get_cmap(\"BrBG\", 10), vmin=10, vmax=30)\n",
    "plt.plot(plg_border[:, 1], plg_border[:, 0], 'r-.')\n",
    "plt.plot(plg_obstacle[:, 1], plg_obstacle[:, 0], 'r-.')\n",
    "plt.colorbar()"
   ]
  },
  {
   "cell_type": "code",
   "execution_count": null,
   "id": "4ed84507",
   "metadata": {
    "pycharm": {
     "name": "#%%\n"
    }
   },
   "outputs": [],
   "source": [
    "def border_contains(loc: np.ndarray) -> bool:\n",
    "    \"\"\" Test if point is within the border polygon \"\"\"\n",
    "    lat, lon = loc\n",
    "    point = Point(lat, lon)\n",
    "    return plg_b_sh.contains(point)\n",
    "\n",
    "def obstacle_contains(loc: np.ndarray) -> bool: \n",
    "    lat, lon = loc\n",
    "    point = Point(lat, lon)\n",
    "    return plg_o_sh.contains(point)\n",
    "\n",
    "def get_legal_indices(lat, lon) -> np.ndarray: \n",
    "    ind = []\n",
    "    for i in range(len(lat)):\n",
    "        loc = np.array([lat[i], lon[i]])\n",
    "        if border_contains(loc) and not obstacle_contains(loc):\n",
    "            ind.append(True)\n",
    "        else: \n",
    "            ind.append(False)\n",
    "    return ind"
   ]
  },
  {
   "cell_type": "code",
   "execution_count": null,
   "id": "a8959a8d",
   "metadata": {
    "pycharm": {
     "name": "#%%\n"
    }
   },
   "outputs": [],
   "source": [
    "ind_legal = get_legal_indices(lat, lon)"
   ]
  },
  {
   "cell_type": "code",
   "execution_count": null,
   "id": "5eb12f14",
   "metadata": {
    "pycharm": {
     "name": "#%%\n"
    }
   },
   "outputs": [],
   "source": [
    "plt.scatter(lon[ind_legal], lat[ind_legal], c=sal[ind_legal], cmap=get_cmap(\"BrBG\", 10), vmin=10, vmax=30)"
   ]
  },
  {
   "cell_type": "code",
   "execution_count": null,
   "id": "55141698",
   "metadata": {
    "pycharm": {
     "name": "#%%\n"
    }
   },
   "outputs": [],
   "source": [
    "lat_l = lat[ind_legal]\n",
    "lon_l = lon[ind_legal]\n",
    "sal_l = sal[ind_legal]\n",
    "x, y = WGS.latlon2xy(lat_l, lon_l)\n",
    "dataset = np.stack((x, y, sal_l), axis=1)\n",
    "df = pd.DataFrame(dataset, columns=['x', 'y', 'salinity'])\n",
    "df.to_csv(\"prior/sinmod.csv\", index=False)\n"
   ]
  },
  {
   "cell_type": "markdown",
   "id": "a69b3fd0",
   "metadata": {
    "pycharm": {
     "name": "#%%\n"
    }
   },
   "source": [
    "# Section II: extract SINMOD surface salinity for visualizing in the paper.\n",
    "- Remember to remove nan values so only valid values will be put on the map"
   ]
  },
  {
   "cell_type": "code",
   "execution_count": 2,
   "id": "970cba70",
   "metadata": {},
   "outputs": [],
   "source": [
    "import matplotlib.pyplot as plt\n",
    "from matplotlib.pyplot import get_cmap\n",
    "from matplotlib.animation import FuncAnimation\n",
    "\n",
    "timestamp = sinmod['time']\n",
    "lat = np.array(sinmod['gridLats'])\n",
    "lon = np.array(sinmod['gridLons'])\n",
    "depth = np.array(sinmod['depth'])\n",
    "salinity = np.array(sinmod['salinity'])\n",
    "\n",
    "\"\"\" Extract legal indices. \"\"\"\n",
    "mask_value = -32768.0\n",
    "lat_f = lat.flatten()\n",
    "lon_f = lon.flatten()\n",
    "sal_f = np.mean(salinity[:, 0, :, :], axis=0).flatten()\n",
    "ind_legal = np.where(~(sal_f == mask_value))[0]\n",
    "\n",
    "# plt.figure()\n",
    "# plt.scatter(lon, lat, c=np.mean(salinity[:, 0, :, :], axis=0), cmap=get_cmap(\"BrBG\", 10), vmin=10, vmax=30)\n",
    "# plt.colorbar()\n",
    "# plt.savefig(\"/Users/yaolin/Downloads/fig/S_{:03d}.png\".format(i))\n",
    "\n",
    "dataset = np.stack((lat_f[ind_legal], lon_f[ind_legal], sal_f[ind_legal]), axis=1)\n",
    "df = pd.DataFrame(dataset, columns=['lat', 'lon', 'salinity'])\n",
    "df.to_csv(\"/Users/yaolin/OneDrive - NTNU/MASCOT_PhD/Projects/GOOGLE/Docs/GIS/csv/sinmod.csv\", index=False)"
   ]
  },
  {
   "cell_type": "code",
   "execution_count": 3,
   "id": "9bd6c47e",
   "metadata": {},
   "outputs": [
    {
     "data": {
      "text/plain": [
       "<matplotlib.colorbar.Colorbar at 0x13299c670>"
      ]
     },
     "execution_count": 3,
     "metadata": {},
     "output_type": "execute_result"
    },
    {
     "data": {
      "image/png": "[encoded data removed]",
      "text/plain": [
       "<Figure size 640x480 with 2 Axes>"
      ]
     },
     "metadata": {},
     "output_type": "display_data"
    }
   ],
   "source": [
    "plt.scatter(df['lon'], df['lat'], c=df['salinity'], cmap=get_cmap(\"BrBG\", 10))\n",
    "plt.colorbar()\n",
    "# for i in tqdm(range(salinity.shape[0])):\n",
    "#     plt.figure()\n",
    "#     plt.scatter(lon, lat, c=salinity[i, 0, :, :], cmap=get_cmap(\"BrBG\", 10), vmin=10, vmax=30)\n",
    "#     plt.colorbar()\n",
    "#     plt.savefig(\"/Users/yaolin/Downloads/fig/S_{:03d}.png\".format(i))\n",
    "#     plt.close(\"all\")\n",
    "#     plt.show()"
   ]
  },
  {
   "cell_type": "markdown",
   "id": "929698f7",
   "metadata": {},
   "source": [
    "# Section III: create SINMOD data region for masking out values in visulization. "
   ]
  },
  {
   "cell_type": "code",
   "execution_count": 32,
   "id": "0555f959",
   "metadata": {},
   "outputs": [],
   "source": [
    "box = np.array([[63.4441527, 10.3296626],\n",
    "                [63.4761121, 10.3948786],\n",
    "                [63.4528538, 10.45186239],\n",
    "                [63.4209213, 10.38662725]])\n",
    "df = pd.DataFrame(box, columns=['lat', 'lon'])\n",
    "df.to_csv(\"/Users/yaolin/OneDrive - NTNU/MASCOT_PhD/Projects/GOOGLE/Docs/GIS/csv/sinmod_region.csv\", index=False)"
   ]
  },
  {
   "cell_type": "code",
   "execution_count": null,
   "id": "d4ef0b06",
   "metadata": {},
   "outputs": [],
   "source": []
  }
 ],
 "metadata": {
  "kernelspec": {
   "display_name": "GOOGLE",
   "language": "python",
   "name": "google"
  },
  "language_info": {
   "codemirror_mode": {
    "name": "ipython",
    "version": 3
   },
   "file_extension": ".py",
   "mimetype": "text/x-python",
   "name": "python",
   "nbconvert_exporter": "python",
   "pygments_lexer": "ipython3",
   "version": "3.9.15"
  }
 },
 "nbformat": 4,
 "nbformat_minor": 5
}
