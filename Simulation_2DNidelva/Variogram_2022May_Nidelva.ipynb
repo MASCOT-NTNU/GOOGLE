{
 "cells": [
  {
   "cell_type": "code",
   "execution_count": 1,
   "id": "0210cb5b",
   "metadata": {},
   "outputs": [
    {
     "data": {
      "text/plain": [
       "['GPKernel',\n",
       " 'Tree',\n",
       " 'HITLAR1',\n",
       " '.DS_Store',\n",
       " 'fig',\n",
       " 'Test',\n",
       " 'Config',\n",
       " 'PathPlanner',\n",
       " 'Budget.py',\n",
       " 'CostValley.py',\n",
       " 'HITL',\n",
       " '__init__.py',\n",
       " 'grf_model.py',\n",
       " 'SimulatorTest.py',\n",
       " 'grfar_model.py',\n",
       " 'RRTStarCV.py',\n",
       " 'README.md',\n",
       " 'RRTStarHome.py',\n",
       " 'PreConfig',\n",
       " 'Variogram_2022May_Nidelva.ipynb',\n",
       " 'Simulator',\n",
       " 'Plotting',\n",
       " 'PlanningStrategies',\n",
       " '.ipynb_checkpoints']"
      ]
     },
     "execution_count": 1,
     "metadata": {},
     "output_type": "execute_result"
    }
   ],
   "source": [
    "import os\n",
    "os.listdir()"
   ]
  },
  {
   "cell_type": "code",
   "execution_count": null,
   "id": "b6b8f1f3",
   "metadata": {},
   "outputs": [],
   "source": []
  }
 ],
 "metadata": {
  "kernelspec": {
   "display_name": "Python 3 (ipykernel)",
   "language": "python",
   "name": "python3"
  },
  "language_info": {
   "codemirror_mode": {
    "name": "ipython",
    "version": 3
   },
   "file_extension": ".py",
   "mimetype": "text/x-python",
   "name": "python",
   "nbconvert_exporter": "python",
   "pygments_lexer": "ipython3",
   "version": "3.9.12"
  }
 },
 "nbformat": 4,
 "nbformat_minor": 5
}
